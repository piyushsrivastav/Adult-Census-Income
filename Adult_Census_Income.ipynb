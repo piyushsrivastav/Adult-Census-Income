{
  "cells": [
    {
      "cell_type": "markdown",
      "metadata": {
        "id": "view-in-github",
        "colab_type": "text"
      },
      "source": [
        "<a href=\"https://colab.research.google.com/github/piyushsrivastav/Adult-Census-Income/blob/main/Adult_Census_Income.ipynb\" target=\"_parent\"><img src=\"https://colab.research.google.com/assets/colab-badge.svg\" alt=\"Open In Colab\"/></a>"
      ]
    },
    {
      "cell_type": "markdown",
      "id": "e125c981",
      "metadata": {
        "id": "e125c981"
      },
      "source": [
        "## Problem Statement\n",
        "The prediction task is to determine whether a person makes over $50K a year or not.\n",
        "\n",
        "Problem Solving approach- PCA on Adult Census data and then using K-means Clustering and Hierarchical/Agglomerative Clustering for clustering the classes accordingly"
      ]
    },
    {
      "cell_type": "markdown",
      "id": "6d7a96d1",
      "metadata": {
        "id": "6d7a96d1"
      },
      "source": [
        "## About dataset\n",
        "- Source: https://www.kaggle.com/datasets/uciml/adult-census-income?datasetId=225&sortBy=voteCount\n",
        "- This data was extracted from the 1994 Census bureau database by Ronny Kohavi and Barry Becker (Data Mining and Visualization, Silicon Graphics). The weights on the Current Population Survey (CPS) files are controlled to independent estimates of the civilian noninstitutional population of the US. The original dataset contains around 48,000 rows but for faster computation we will be using only 2000 rows in this section.\n",
        "- Content\n",
        "- age: Age of the person\n",
        "- workclass: Private, Self-emp-not-inc, Self-emp-inc, Federal-gov, Local-gov, State-gov, Without-pay, Never-worked.\n",
        "- fnlwgt: continuous.\n",
        "- education: Bachelors, Some-college, 11th, HS-grad, Prof-school, Assoc-acdm, Assoc-voc, 9th, 7th-8th, 12th, Masters, 1st-4th, 10th, Doctorate, 5th-6th, Preschool.\n",
        "- education-num: continuous.\n",
        "- marital-status: Married-civ-spouse, Divorced, Never-married, Separated, Widowed, Married-spouse-absent, Married-AF-spouse.\n",
        "- occupation: Tech-support, Craft-repair, Other-service, Sales, Exec-managerial, Prof-specialty, Handlers-cleaners, Machine-op-inspct, Adm-clerical, Farming-fishing, Transport-moving, Priv-house-serv, Protective-serv, Armed-Forces.\n",
        "- relationship: Wife, Own-child, Husband, Not-in-family, Other-relative, Unmarried.\n",
        "- race: White, Asian-Pac-Islander, Amer-Indian-Eskimo, Other, Black.\n",
        "- sex: Female, Male.\n",
        "- capital-gain: continuous.\n",
        "- capital-loss: continuous.\n",
        "- hours-per-week: continuous.\n",
        "- native-country: the country from where the person belong."
      ]
    },
    {
      "cell_type": "markdown",
      "source": [
        "## Description: \n",
        "The Data set contains information about various attributes like education, gender, family status etc,  of people from diverse backgrounds.\n",
        "\n",
        "### Attribute Information:\n",
        "- age: continuous.\n",
        "- workclass: Private, Self-emp-not-inc, Self-emp-inc, Federal-gov etc\n",
        "- Fnlwgt: Sample weight.\n",
        "- education: Bachelors, Some-college, 11th, HS-grad, Prof-school etc\n",
        "- education-num: continuous.\n",
        "- marital-status: Married-civ-spouse, Divorced, Never-married, Separated etc\n",
        "- occupation: Tech-support, Craft-repair, Other-service, Sales, Exec-managerial etc\n",
        "- relationship: Wife, Own-child, Husband, Not-in-family, Other-relative, Unmarried.\n",
        "- race: White, Asian-Pac-Islander, Black etc\n",
        "- sex: Female, Male.\n",
        "- capital-gain: continuous.\n",
        "- capital-loss: continuous.\n",
        "- hours-per-week: continuous.\n",
        "- native-country: United-States, Cambodia, England, Puerto-Rico, Canada **etc**"
      ],
      "metadata": {
        "id": "seR-VuGe7eoL"
      },
      "id": "seR-VuGe7eoL"
    },
    {
      "cell_type": "markdown",
      "id": "fde7bdbe",
      "metadata": {
        "id": "fde7bdbe"
      },
      "source": [
        "## Import all necessary libraries"
      ]
    },
    {
      "cell_type": "code",
      "execution_count": null,
      "id": "655c266c",
      "metadata": {
        "id": "655c266c"
      },
      "outputs": [],
      "source": [
        "# importing libraries\n",
        "\n",
        "import pandas as pd\n",
        "import numpy as np\n",
        "import matplotlib.pyplot as plt\n",
        "import seaborn as sns\n",
        "import warnings\n",
        "warnings.filterwarnings('ignore')\n",
        "\n",
        "from sklearn.preprocessing import StandardScaler\n",
        "from scipy import stats\n",
        "from sklearn.cluster import KMeans\n",
        "from scipy.stats import zscore\n",
        "from scipy.spatial import distance\n",
        "from scipy.cluster.hierarchy import linkage, dendrogram, fcluster\n",
        "from sklearn.cluster import AgglomerativeClustering\n",
        "from sklearn.decomposition import PCA\n",
        "from sklearn.model_selection import train_test_split\n",
        "from sklearn import preprocessing\n",
        "from sklearn.preprocessing import Normalizer"
      ]
    },
    {
      "cell_type": "markdown",
      "id": "43d2fc65",
      "metadata": {
        "id": "43d2fc65"
      },
      "source": [
        "## Q1. Load the CSV file (i.e adult.csv) and display the first 5 rows of the dataframe. Check the shape and info of the dataset."
      ]
    },
    {
      "cell_type": "code",
      "execution_count": null,
      "id": "6606f100",
      "metadata": {
        "id": "6606f100"
      },
      "outputs": [],
      "source": [
        "df=pd.read_csv('adult3.csv')"
      ]
    },
    {
      "cell_type": "code",
      "execution_count": null,
      "id": "2e687958",
      "metadata": {
        "id": "2e687958",
        "outputId": "fb381176-f778-4a71-966a-c6edd57cb612"
      },
      "outputs": [
        {
          "data": {
            "text/html": [
              "<div>\n",
              "<style scoped>\n",
              "    .dataframe tbody tr th:only-of-type {\n",
              "        vertical-align: middle;\n",
              "    }\n",
              "\n",
              "    .dataframe tbody tr th {\n",
              "        vertical-align: top;\n",
              "    }\n",
              "\n",
              "    .dataframe thead th {\n",
              "        text-align: right;\n",
              "    }\n",
              "</style>\n",
              "<table border=\"1\" class=\"dataframe\">\n",
              "  <thead>\n",
              "    <tr style=\"text-align: right;\">\n",
              "      <th></th>\n",
              "      <th>age</th>\n",
              "      <th>workclass</th>\n",
              "      <th>fnlwgt</th>\n",
              "      <th>education</th>\n",
              "      <th>educational-num</th>\n",
              "      <th>marital-status</th>\n",
              "      <th>occupation</th>\n",
              "      <th>relationship</th>\n",
              "      <th>race</th>\n",
              "      <th>gender</th>\n",
              "      <th>capital-gain</th>\n",
              "      <th>capital-loss</th>\n",
              "      <th>hours-per-week</th>\n",
              "      <th>native-country</th>\n",
              "      <th>income</th>\n",
              "    </tr>\n",
              "  </thead>\n",
              "  <tbody>\n",
              "    <tr>\n",
              "      <th>0</th>\n",
              "      <td>25</td>\n",
              "      <td>Private</td>\n",
              "      <td>226802</td>\n",
              "      <td>11th</td>\n",
              "      <td>7</td>\n",
              "      <td>Never-married</td>\n",
              "      <td>Machine-op-inspct</td>\n",
              "      <td>Own-child</td>\n",
              "      <td>Black</td>\n",
              "      <td>Male</td>\n",
              "      <td>0</td>\n",
              "      <td>0</td>\n",
              "      <td>40</td>\n",
              "      <td>United-States</td>\n",
              "      <td>&lt;=50K</td>\n",
              "    </tr>\n",
              "    <tr>\n",
              "      <th>1</th>\n",
              "      <td>38</td>\n",
              "      <td>Private</td>\n",
              "      <td>89814</td>\n",
              "      <td>HS-grad</td>\n",
              "      <td>9</td>\n",
              "      <td>Married-civ-spouse</td>\n",
              "      <td>Farming-fishing</td>\n",
              "      <td>Husband</td>\n",
              "      <td>White</td>\n",
              "      <td>Male</td>\n",
              "      <td>0</td>\n",
              "      <td>0</td>\n",
              "      <td>50</td>\n",
              "      <td>United-States</td>\n",
              "      <td>&lt;=50K</td>\n",
              "    </tr>\n",
              "    <tr>\n",
              "      <th>2</th>\n",
              "      <td>28</td>\n",
              "      <td>Local-gov</td>\n",
              "      <td>336951</td>\n",
              "      <td>Assoc-acdm</td>\n",
              "      <td>12</td>\n",
              "      <td>Married-civ-spouse</td>\n",
              "      <td>Protective-serv</td>\n",
              "      <td>Husband</td>\n",
              "      <td>White</td>\n",
              "      <td>Male</td>\n",
              "      <td>0</td>\n",
              "      <td>0</td>\n",
              "      <td>40</td>\n",
              "      <td>United-States</td>\n",
              "      <td>&gt;50K</td>\n",
              "    </tr>\n",
              "    <tr>\n",
              "      <th>3</th>\n",
              "      <td>44</td>\n",
              "      <td>Private</td>\n",
              "      <td>160323</td>\n",
              "      <td>Some-college</td>\n",
              "      <td>10</td>\n",
              "      <td>Married-civ-spouse</td>\n",
              "      <td>Machine-op-inspct</td>\n",
              "      <td>Husband</td>\n",
              "      <td>Black</td>\n",
              "      <td>Male</td>\n",
              "      <td>7688</td>\n",
              "      <td>0</td>\n",
              "      <td>40</td>\n",
              "      <td>United-States</td>\n",
              "      <td>&gt;50K</td>\n",
              "    </tr>\n",
              "    <tr>\n",
              "      <th>4</th>\n",
              "      <td>18</td>\n",
              "      <td>?</td>\n",
              "      <td>103497</td>\n",
              "      <td>Some-college</td>\n",
              "      <td>10</td>\n",
              "      <td>Never-married</td>\n",
              "      <td>?</td>\n",
              "      <td>Own-child</td>\n",
              "      <td>White</td>\n",
              "      <td>Female</td>\n",
              "      <td>0</td>\n",
              "      <td>0</td>\n",
              "      <td>30</td>\n",
              "      <td>United-States</td>\n",
              "      <td>&lt;=50K</td>\n",
              "    </tr>\n",
              "  </tbody>\n",
              "</table>\n",
              "</div>"
            ],
            "text/plain": [
              "   age  workclass  fnlwgt     education  educational-num      marital-status  \\\n",
              "0   25    Private  226802          11th                7       Never-married   \n",
              "1   38    Private   89814       HS-grad                9  Married-civ-spouse   \n",
              "2   28  Local-gov  336951    Assoc-acdm               12  Married-civ-spouse   \n",
              "3   44    Private  160323  Some-college               10  Married-civ-spouse   \n",
              "4   18          ?  103497  Some-college               10       Never-married   \n",
              "\n",
              "          occupation relationship   race  gender  capital-gain  capital-loss  \\\n",
              "0  Machine-op-inspct    Own-child  Black    Male             0             0   \n",
              "1    Farming-fishing      Husband  White    Male             0             0   \n",
              "2    Protective-serv      Husband  White    Male             0             0   \n",
              "3  Machine-op-inspct      Husband  Black    Male          7688             0   \n",
              "4                  ?    Own-child  White  Female             0             0   \n",
              "\n",
              "   hours-per-week native-country income  \n",
              "0              40  United-States  <=50K  \n",
              "1              50  United-States  <=50K  \n",
              "2              40  United-States   >50K  \n",
              "3              40  United-States   >50K  \n",
              "4              30  United-States  <=50K  "
            ]
          },
          "execution_count": 3,
          "metadata": {},
          "output_type": "execute_result"
        }
      ],
      "source": [
        "df.head()"
      ]
    },
    {
      "cell_type": "code",
      "execution_count": null,
      "id": "e7c5f539",
      "metadata": {
        "id": "e7c5f539",
        "outputId": "2ee30d05-ff3c-4a81-c9ca-08eb9b658db0"
      },
      "outputs": [
        {
          "data": {
            "text/plain": [
              "(2021, 15)"
            ]
          },
          "execution_count": 4,
          "metadata": {},
          "output_type": "execute_result"
        }
      ],
      "source": [
        "df.shape"
      ]
    },
    {
      "cell_type": "code",
      "execution_count": null,
      "id": "2065a572",
      "metadata": {
        "id": "2065a572",
        "outputId": "49fe0ba1-0517-4481-cd98-c59659c7ca2d"
      },
      "outputs": [
        {
          "data": {
            "text/plain": [
              "Index(['age', 'workclass', 'fnlwgt', 'education', 'educational-num',\n",
              "       'marital-status', 'occupation', 'relationship', 'race', 'gender',\n",
              "       'capital-gain', 'capital-loss', 'hours-per-week', 'native-country',\n",
              "       'income'],\n",
              "      dtype='object')"
            ]
          },
          "execution_count": 5,
          "metadata": {},
          "output_type": "execute_result"
        }
      ],
      "source": [
        "df.columns"
      ]
    },
    {
      "cell_type": "markdown",
      "id": "e131d7b8",
      "metadata": {
        "id": "e131d7b8"
      },
      "source": [
        "## Q2. At a first glance of our dataset, we can see that missing values are present in the form of \"?\" in \"workclass\",\"occupation\", \"native-country\". Remove them."
      ]
    },
    {
      "cell_type": "code",
      "execution_count": null,
      "id": "ca6c709f",
      "metadata": {
        "id": "ca6c709f"
      },
      "outputs": [],
      "source": [
        "## Encode '?' as \"NAN\"\n",
        "df[df == '?'] = np.nan\n",
        "\n",
        "## Now removing \"NAN\" with the most frequent value- the mode.\n",
        "for col in ['workclass', 'occupation', 'native-country']:\n",
        "    df[col].fillna(df[col].mode()[0], inplace=True)"
      ]
    },
    {
      "cell_type": "code",
      "execution_count": null,
      "id": "1133806b",
      "metadata": {
        "id": "1133806b",
        "outputId": "6cfac98f-f0fa-495a-b033-4d2eb87b01bb"
      },
      "outputs": [
        {
          "name": "stdout",
          "output_type": "stream",
          "text": [
            "The missing value of each columns of the dataframe \n",
            " age                0\n",
            "workclass          0\n",
            "fnlwgt             0\n",
            "education          0\n",
            "educational-num    0\n",
            "marital-status     0\n",
            "occupation         0\n",
            "relationship       0\n",
            "race               0\n",
            "gender             0\n",
            "capital-gain       0\n",
            "capital-loss       0\n",
            "hours-per-week     0\n",
            "native-country     0\n",
            "income             0\n",
            "dtype: int64\n"
          ]
        }
      ],
      "source": [
        "print(\"The missing value of each columns of the dataframe \\n\",(df.isnull().sum()))"
      ]
    },
    {
      "cell_type": "markdown",
      "id": "0866d5e0",
      "metadata": {
        "id": "0866d5e0"
      },
      "source": [
        "## Q3.Check the statistical summary of the data frame and write your findings."
      ]
    },
    {
      "cell_type": "code",
      "execution_count": null,
      "id": "0aafa509",
      "metadata": {
        "id": "0aafa509",
        "outputId": "1bcf83bc-5d9b-4a63-dc6c-be496fd7ec6b"
      },
      "outputs": [
        {
          "data": {
            "text/html": [
              "<div>\n",
              "<style scoped>\n",
              "    .dataframe tbody tr th:only-of-type {\n",
              "        vertical-align: middle;\n",
              "    }\n",
              "\n",
              "    .dataframe tbody tr th {\n",
              "        vertical-align: top;\n",
              "    }\n",
              "\n",
              "    .dataframe thead th {\n",
              "        text-align: right;\n",
              "    }\n",
              "</style>\n",
              "<table border=\"1\" class=\"dataframe\">\n",
              "  <thead>\n",
              "    <tr style=\"text-align: right;\">\n",
              "      <th></th>\n",
              "      <th>age</th>\n",
              "      <th>fnlwgt</th>\n",
              "      <th>educational-num</th>\n",
              "      <th>capital-gain</th>\n",
              "      <th>capital-loss</th>\n",
              "      <th>hours-per-week</th>\n",
              "    </tr>\n",
              "  </thead>\n",
              "  <tbody>\n",
              "    <tr>\n",
              "      <th>count</th>\n",
              "      <td>2021.000000</td>\n",
              "      <td>2021.000000</td>\n",
              "      <td>2021.000000</td>\n",
              "      <td>2021.000000</td>\n",
              "      <td>2021.000000</td>\n",
              "      <td>2021.000000</td>\n",
              "    </tr>\n",
              "    <tr>\n",
              "      <th>mean</th>\n",
              "      <td>38.573973</td>\n",
              "      <td>185621.657100</td>\n",
              "      <td>10.031667</td>\n",
              "      <td>1371.680851</td>\n",
              "      <td>85.367145</td>\n",
              "      <td>40.533399</td>\n",
              "    </tr>\n",
              "    <tr>\n",
              "      <th>std</th>\n",
              "      <td>13.721887</td>\n",
              "      <td>99247.776981</td>\n",
              "      <td>2.681249</td>\n",
              "      <td>8927.426392</td>\n",
              "      <td>397.758747</td>\n",
              "      <td>12.129234</td>\n",
              "    </tr>\n",
              "    <tr>\n",
              "      <th>min</th>\n",
              "      <td>17.000000</td>\n",
              "      <td>13769.000000</td>\n",
              "      <td>1.000000</td>\n",
              "      <td>0.000000</td>\n",
              "      <td>0.000000</td>\n",
              "      <td>1.000000</td>\n",
              "    </tr>\n",
              "    <tr>\n",
              "      <th>25%</th>\n",
              "      <td>27.000000</td>\n",
              "      <td>115562.000000</td>\n",
              "      <td>9.000000</td>\n",
              "      <td>0.000000</td>\n",
              "      <td>0.000000</td>\n",
              "      <td>40.000000</td>\n",
              "    </tr>\n",
              "    <tr>\n",
              "      <th>50%</th>\n",
              "      <td>37.000000</td>\n",
              "      <td>176520.000000</td>\n",
              "      <td>10.000000</td>\n",
              "      <td>0.000000</td>\n",
              "      <td>0.000000</td>\n",
              "      <td>40.000000</td>\n",
              "    </tr>\n",
              "    <tr>\n",
              "      <th>75%</th>\n",
              "      <td>48.000000</td>\n",
              "      <td>235218.000000</td>\n",
              "      <td>13.000000</td>\n",
              "      <td>0.000000</td>\n",
              "      <td>0.000000</td>\n",
              "      <td>45.000000</td>\n",
              "    </tr>\n",
              "    <tr>\n",
              "      <th>max</th>\n",
              "      <td>90.000000</td>\n",
              "      <td>662460.000000</td>\n",
              "      <td>16.000000</td>\n",
              "      <td>99999.000000</td>\n",
              "      <td>3004.000000</td>\n",
              "      <td>99.000000</td>\n",
              "    </tr>\n",
              "  </tbody>\n",
              "</table>\n",
              "</div>"
            ],
            "text/plain": [
              "               age         fnlwgt  educational-num  capital-gain  \\\n",
              "count  2021.000000    2021.000000      2021.000000   2021.000000   \n",
              "mean     38.573973  185621.657100        10.031667   1371.680851   \n",
              "std      13.721887   99247.776981         2.681249   8927.426392   \n",
              "min      17.000000   13769.000000         1.000000      0.000000   \n",
              "25%      27.000000  115562.000000         9.000000      0.000000   \n",
              "50%      37.000000  176520.000000        10.000000      0.000000   \n",
              "75%      48.000000  235218.000000        13.000000      0.000000   \n",
              "max      90.000000  662460.000000        16.000000  99999.000000   \n",
              "\n",
              "       capital-loss  hours-per-week  \n",
              "count   2021.000000     2021.000000  \n",
              "mean      85.367145       40.533399  \n",
              "std      397.758747       12.129234  \n",
              "min        0.000000        1.000000  \n",
              "25%        0.000000       40.000000  \n",
              "50%        0.000000       40.000000  \n",
              "75%        0.000000       45.000000  \n",
              "max     3004.000000       99.000000  "
            ]
          },
          "execution_count": 8,
          "metadata": {},
          "output_type": "execute_result"
        }
      ],
      "source": [
        "df.describe()"
      ]
    },
    {
      "cell_type": "markdown",
      "id": "44eb81db",
      "metadata": {
        "id": "44eb81db"
      },
      "source": [
        "- Capital gain ranges between 0-99,999 dollars\n",
        "- The maximum working hours per week is 99 hrs.\n",
        "- The mean value is 38 i.e. on an average the value of age attribute is 38"
      ]
    },
    {
      "cell_type": "code",
      "execution_count": null,
      "id": "a16a5daf",
      "metadata": {
        "id": "a16a5daf",
        "outputId": "1880298b-0caf-4e29-c9a3-64b828584028"
      },
      "outputs": [
        {
          "data": {
            "text/html": [
              "<div>\n",
              "<style scoped>\n",
              "    .dataframe tbody tr th:only-of-type {\n",
              "        vertical-align: middle;\n",
              "    }\n",
              "\n",
              "    .dataframe tbody tr th {\n",
              "        vertical-align: top;\n",
              "    }\n",
              "\n",
              "    .dataframe thead th {\n",
              "        text-align: right;\n",
              "    }\n",
              "</style>\n",
              "<table border=\"1\" class=\"dataframe\">\n",
              "  <thead>\n",
              "    <tr style=\"text-align: right;\">\n",
              "      <th></th>\n",
              "      <th>workclass</th>\n",
              "      <th>education</th>\n",
              "      <th>marital-status</th>\n",
              "      <th>occupation</th>\n",
              "      <th>relationship</th>\n",
              "      <th>race</th>\n",
              "      <th>gender</th>\n",
              "      <th>native-country</th>\n",
              "      <th>income</th>\n",
              "    </tr>\n",
              "  </thead>\n",
              "  <tbody>\n",
              "    <tr>\n",
              "      <th>count</th>\n",
              "      <td>2021</td>\n",
              "      <td>2021</td>\n",
              "      <td>2021</td>\n",
              "      <td>2021</td>\n",
              "      <td>2021</td>\n",
              "      <td>2021</td>\n",
              "      <td>2021</td>\n",
              "      <td>2021</td>\n",
              "      <td>2021</td>\n",
              "    </tr>\n",
              "    <tr>\n",
              "      <th>unique</th>\n",
              "      <td>6</td>\n",
              "      <td>16</td>\n",
              "      <td>7</td>\n",
              "      <td>14</td>\n",
              "      <td>6</td>\n",
              "      <td>5</td>\n",
              "      <td>2</td>\n",
              "      <td>34</td>\n",
              "      <td>2</td>\n",
              "    </tr>\n",
              "    <tr>\n",
              "      <th>top</th>\n",
              "      <td>Private</td>\n",
              "      <td>HS-grad</td>\n",
              "      <td>Married-civ-spouse</td>\n",
              "      <td>Exec-managerial</td>\n",
              "      <td>Husband</td>\n",
              "      <td>White</td>\n",
              "      <td>Male</td>\n",
              "      <td>United-States</td>\n",
              "      <td>&lt;=50K</td>\n",
              "    </tr>\n",
              "    <tr>\n",
              "      <th>freq</th>\n",
              "      <td>1485</td>\n",
              "      <td>628</td>\n",
              "      <td>939</td>\n",
              "      <td>400</td>\n",
              "      <td>825</td>\n",
              "      <td>1718</td>\n",
              "      <td>1357</td>\n",
              "      <td>1858</td>\n",
              "      <td>1535</td>\n",
              "    </tr>\n",
              "  </tbody>\n",
              "</table>\n",
              "</div>"
            ],
            "text/plain": [
              "       workclass education      marital-status       occupation relationship  \\\n",
              "count       2021      2021                2021             2021         2021   \n",
              "unique         6        16                   7               14            6   \n",
              "top      Private   HS-grad  Married-civ-spouse  Exec-managerial      Husband   \n",
              "freq        1485       628                 939              400          825   \n",
              "\n",
              "         race gender native-country income  \n",
              "count    2021   2021           2021   2021  \n",
              "unique      5      2             34      2  \n",
              "top     White   Male  United-States  <=50K  \n",
              "freq     1718   1357           1858   1535  "
            ]
          },
          "execution_count": 9,
          "metadata": {},
          "output_type": "execute_result"
        }
      ],
      "source": [
        "df.describe(include='O')"
      ]
    },
    {
      "cell_type": "markdown",
      "id": "28013157",
      "metadata": {
        "id": "28013157"
      },
      "source": [
        "- There are 9 Categorical features.\n",
        "- Native-country has maximum number of unique categories i.e. 34 categories.\n",
        "- But the native-country is highly biased toward the US which has frequency of 1858 out of total 2021(nearly 91%)."
      ]
    },
    {
      "cell_type": "markdown",
      "id": "cbfef09c",
      "metadata": {
        "id": "cbfef09c"
      },
      "source": [
        "## Exploratory Data Analysis"
      ]
    },
    {
      "cell_type": "markdown",
      "id": "6b8e0ac5",
      "metadata": {
        "id": "6b8e0ac5"
      },
      "source": [
        "### Using Visualization plots answer the following questions"
      ]
    },
    {
      "cell_type": "markdown",
      "id": "883768af",
      "metadata": {
        "id": "883768af"
      },
      "source": [
        "#### Q4. What is the general working hours in a week for an individual?"
      ]
    },
    {
      "cell_type": "code",
      "execution_count": null,
      "id": "ff9e24c2",
      "metadata": {
        "id": "ff9e24c2",
        "outputId": "8ce8c737-9d84-4906-a65c-d687bce674a5"
      },
      "outputs": [
        {
          "data": {
            "image/png": "[encoded data removed]",
            "text/plain": [
              "<Figure size 576x360 with 1 Axes>"
            ]
          },
          "metadata": {
            "needs_background": "light"
          },
          "output_type": "display_data"
        }
      ],
      "source": [
        "df['hours-per-week'].hist(figsize=(8,5))\n",
        "plt.show()"
      ]
    },
    {
      "cell_type": "markdown",
      "id": "fe5f9c16",
      "metadata": {
        "id": "fe5f9c16"
      },
      "source": [
        "- Most people work 30-40 hours per week, they are roughly 1200 people.\n",
        "- There are also few people who works 80-100 hours per week and some less than 20 which is unusual."
      ]
    },
    {
      "cell_type": "markdown",
      "id": "0298ce0f",
      "metadata": {
        "id": "0298ce0f"
      },
      "source": [
        "#### Q5. What are the different workclass that an individual may belong to?"
      ]
    },
    {
      "cell_type": "code",
      "execution_count": null,
      "id": "9638c9d3",
      "metadata": {
        "id": "9638c9d3",
        "outputId": "6a1970ee-99d8-4d70-cc7c-01424ade2fd6"
      },
      "outputs": [
        {
          "data": {
            "text/plain": [
              "<AxesSubplot:xlabel='workclass', ylabel='count'>"
            ]
          },
          "execution_count": 11,
          "metadata": {},
          "output_type": "execute_result"
        },
        {
          "data": {
            "image/png": "[encoded data removed]",
            "text/plain": [
              "<Figure size 864x576 with 1 Axes>"
            ]
          },
          "metadata": {
            "needs_background": "light"
          },
          "output_type": "display_data"
        }
      ],
      "source": [
        "plt.figure(figsize = (12,8))\n",
        "sns.countplot(df['workclass'])"
      ]
    },
    {
      "cell_type": "markdown",
      "id": "79a13a83",
      "metadata": {
        "id": "79a13a83"
      },
      "source": [
        "- There are 6 unique categories present in the worclass attribute.\n",
        "- Most of them belong to the private workclass around 75%."
      ]
    },
    {
      "cell_type": "markdown",
      "id": "914eb888",
      "metadata": {
        "id": "914eb888"
      },
      "source": [
        "#### Q6. What are the different education level?"
      ]
    },
    {
      "cell_type": "code",
      "execution_count": null,
      "id": "4ccbbde9",
      "metadata": {
        "id": "4ccbbde9",
        "outputId": "2d00ad67-fb75-4ab6-ce01-f2ca10495517"
      },
      "outputs": [
        {
          "data": {
            "text/plain": [
              "<AxesSubplot:xlabel='education', ylabel='count'>"
            ]
          },
          "execution_count": 12,
          "metadata": {},
          "output_type": "execute_result"
        },
        {
          "data": {
            "image/png": "[encoded data removed]",
            "text/plain": [
              "<Figure size 1296x576 with 1 Axes>"
            ]
          },
          "metadata": {
            "needs_background": "light"
          },
          "output_type": "display_data"
        }
      ],
      "source": [
        "plt.figure(figsize = (18,8))\n",
        "sns.countplot(df['education'])"
      ]
    },
    {
      "cell_type": "markdown",
      "id": "9092537e",
      "metadata": {
        "id": "9092537e"
      },
      "source": [
        "- There are 16 unique categories present in the education attribute.\n",
        "- HS-grad (650) has the maximum number of observations followed by some-college(430) and Bachelors(350)."
      ]
    },
    {
      "cell_type": "markdown",
      "id": "62c6edaf",
      "metadata": {
        "id": "62c6edaf"
      },
      "source": [
        "#### Q7. Comment on the marital status of the people."
      ]
    },
    {
      "cell_type": "code",
      "execution_count": null,
      "id": "5e2b6459",
      "metadata": {
        "id": "5e2b6459",
        "outputId": "2fa5cc2a-6b2c-4f08-d1bd-68419c0dc040"
      },
      "outputs": [
        {
          "data": {
            "text/plain": [
              "<AxesSubplot:xlabel='marital-status', ylabel='count'>"
            ]
          },
          "execution_count": 13,
          "metadata": {},
          "output_type": "execute_result"
        },
        {
          "data": {
            "image/png": "[encoded data removed]",
            "text/plain": [
              "<Figure size 1008x576 with 1 Axes>"
            ]
          },
          "metadata": {
            "needs_background": "light"
          },
          "output_type": "display_data"
        }
      ],
      "source": [
        "plt.figure(figsize = (14,8))\n",
        "sns.countplot(df['marital-status'])"
      ]
    },
    {
      "cell_type": "markdown",
      "id": "d7b1cba0",
      "metadata": {
        "id": "d7b1cba0"
      },
      "source": [
        "- marital-status attribute has 7 unique categories.\n",
        "- Two of them are dominate over other categories(these are Never-married and married-civ-spouse.\n",
        "- Married-civ-spouse has maximum number of samples."
      ]
    },
    {
      "cell_type": "markdown",
      "id": "1ebf9669",
      "metadata": {
        "id": "1ebf9669"
      },
      "source": [
        "#### Q8. What is the gender distribution?"
      ]
    },
    {
      "cell_type": "code",
      "execution_count": null,
      "id": "d076b18b",
      "metadata": {
        "id": "d076b18b",
        "outputId": "27d3d2ce-74b6-43b3-879f-7e260aaf602b"
      },
      "outputs": [
        {
          "data": {
            "text/plain": [
              "<AxesSubplot:xlabel='gender', ylabel='count'>"
            ]
          },
          "execution_count": 14,
          "metadata": {},
          "output_type": "execute_result"
        },
        {
          "data": {
            "image/png": "[encoded data removed]",
            "text/plain": [
              "<Figure size 720x360 with 1 Axes>"
            ]
          },
          "metadata": {
            "needs_background": "light"
          },
          "output_type": "display_data"
        }
      ],
      "source": [
        "plt.figure(figsize = (10,5))\n",
        "sns.countplot(df['gender'])"
      ]
    },
    {
      "cell_type": "markdown",
      "id": "59f24140",
      "metadata": {
        "id": "59f24140"
      },
      "source": [
        "- Gender has 2 unique categories(male and female).\n",
        "- But the frequency of male(1380) is higher than the female(750) categories."
      ]
    },
    {
      "cell_type": "markdown",
      "id": "e437d6ae",
      "metadata": {
        "id": "e437d6ae"
      },
      "source": [
        "### Let's perform some bivariate analysis"
      ]
    },
    {
      "cell_type": "markdown",
      "id": "1b592e88",
      "metadata": {
        "id": "1b592e88"
      },
      "source": [
        "#### Q9. Find the relationship between 'Age' and 'income'."
      ]
    },
    {
      "cell_type": "code",
      "execution_count": null,
      "id": "7bc5869d",
      "metadata": {
        "id": "7bc5869d",
        "outputId": "d039b35b-2fbc-4223-b6a1-1fae72f3b19e"
      },
      "outputs": [
        {
          "data": {
            "image/png": "[encoded data removed]",
            "text/plain": [
              "<Figure size 720x360 with 1 Axes>"
            ]
          },
          "metadata": {
            "needs_background": "light"
          },
          "output_type": "display_data"
        }
      ],
      "source": [
        "sns.catplot(data=df, x='income', y='age', kind= 'box', aspect=2)\n",
        "plt.title('Relationship between Income and Age')\n",
        "plt.show()"
      ]
    },
    {
      "cell_type": "markdown",
      "id": "c33b5ee7",
      "metadata": {
        "id": "c33b5ee7"
      },
      "source": [
        "- Most of the people having income less than or equal to 50K are between age 25-45\n",
        "- Most of the people having income more than 50K are between age 37-50"
      ]
    },
    {
      "cell_type": "markdown",
      "id": "60d58704",
      "metadata": {
        "id": "60d58704"
      },
      "source": [
        "#### Q9. Find whether people with more working hours per week tends to get more income?"
      ]
    },
    {
      "cell_type": "code",
      "execution_count": null,
      "id": "a307e860",
      "metadata": {
        "id": "a307e860",
        "outputId": "8d0e9500-dfc5-4249-ba54-2f88655264b0"
      },
      "outputs": [
        {
          "data": {
            "image/png": "[encoded data removed]",
            "text/plain": [
              "<Figure size 720x360 with 1 Axes>"
            ]
          },
          "metadata": {
            "needs_background": "light"
          },
          "output_type": "display_data"
        }
      ],
      "source": [
        "sns.catplot(data=df, x='income', y='hours-per-week', kind= 'box', aspect=2)\n",
        "plt.title('Relationship between Income and Working hours per week')\n",
        "plt.show()"
      ]
    },
    {
      "cell_type": "markdown",
      "id": "71615b09",
      "metadata": {
        "id": "71615b09"
      },
      "source": [
        "- Income group who earns >50k has spend ~44 \"hours-per-week\".(long hours)\n",
        "- Income group who earns <=50k has spend ~37 \"hours-per-week\"."
      ]
    },
    {
      "cell_type": "markdown",
      "id": "f0fd7df7",
      "metadata": {
        "id": "f0fd7df7"
      },
      "source": [
        "#### Q10. Find the relationship between \"Workingclass\" and \"income\""
      ]
    },
    {
      "cell_type": "code",
      "execution_count": null,
      "id": "c5c574ab",
      "metadata": {
        "id": "c5c574ab",
        "outputId": "f373ea21-a4f1-43e2-ca03-aa5acbd91b8a"
      },
      "outputs": [
        {
          "data": {
            "text/plain": [
              "<AxesSubplot:xlabel='workclass', ylabel='count'>"
            ]
          },
          "execution_count": 17,
          "metadata": {},
          "output_type": "execute_result"
        },
        {
          "data": {
            "image/png": "[encoded data removed]",
            "text/plain": [
              "<Figure size 864x576 with 1 Axes>"
            ]
          },
          "metadata": {
            "needs_background": "light"
          },
          "output_type": "display_data"
        }
      ],
      "source": [
        "plt.figure(figsize = (12,8))\n",
        "sns.countplot(data = df ,x='workclass',hue='income')"
      ]
    },
    {
      "cell_type": "markdown",
      "id": "04eab67a",
      "metadata": {
        "id": "04eab67a"
      },
      "source": [
        "- In private workclass most of the people earn <=50k\n",
        "- self-emp-inc workclass is only where more people earn >50k"
      ]
    },
    {
      "cell_type": "markdown",
      "id": "567b2235",
      "metadata": {
        "id": "567b2235"
      },
      "source": [
        "#### Q11. Does higher education means that the person will get higher income?"
      ]
    },
    {
      "cell_type": "code",
      "execution_count": null,
      "id": "8fb3f86c",
      "metadata": {
        "id": "8fb3f86c",
        "outputId": "a855344a-28d2-4825-99b3-fbca7ea9d6c4"
      },
      "outputs": [
        {
          "data": {
            "text/plain": [
              "<AxesSubplot:xlabel='education', ylabel='count'>"
            ]
          },
          "execution_count": 18,
          "metadata": {},
          "output_type": "execute_result"
        },
        {
          "data": {
            "image/png": "[encoded data removed]",
            "text/plain": [
              "<Figure size 1296x576 with 1 Axes>"
            ]
          },
          "metadata": {
            "needs_background": "light"
          },
          "output_type": "display_data"
        }
      ],
      "source": [
        "plt.figure(figsize = (18,8))\n",
        "sns.countplot(data = df ,x='education',hue='income')"
      ]
    },
    {
      "cell_type": "markdown",
      "id": "7c00f531",
      "metadata": {
        "id": "7c00f531"
      },
      "source": [
        "- Despite the fact that most of the categories fall under the HS-grad but the interesting thing is only 5.0% of all people belong to the income group 1(i.e. earns more than 50k)\n",
        "- Categories such as 'Prof-school', 'Masters' & 'Doctorate' have people who earn more than 50k. \n",
        "- We can also infer that higher eduction may provide better earnings."
      ]
    },
    {
      "cell_type": "markdown",
      "id": "6002f499",
      "metadata": {
        "id": "6002f499"
      },
      "source": [
        "#### Q12. Who has better chance to get income greater than 50K, Male or Female?"
      ]
    },
    {
      "cell_type": "code",
      "execution_count": null,
      "id": "3294ac5a",
      "metadata": {
        "id": "3294ac5a",
        "outputId": "027a006d-8830-4145-c298-1cbd6bfcea92"
      },
      "outputs": [
        {
          "data": {
            "text/plain": [
              "<AxesSubplot:xlabel='gender', ylabel='count'>"
            ]
          },
          "execution_count": 19,
          "metadata": {},
          "output_type": "execute_result"
        },
        {
          "data": {
            "image/png": "[encoded data removed]",
            "text/plain": [
              "<Figure size 576x432 with 1 Axes>"
            ]
          },
          "metadata": {
            "needs_background": "light"
          },
          "output_type": "display_data"
        }
      ],
      "source": [
        "plt.figure(figsize = (8,6))\n",
        "sns.countplot(data = df ,x='gender',hue='income')"
      ]
    },
    {
      "cell_type": "markdown",
      "id": "055ff733",
      "metadata": {
        "id": "055ff733"
      },
      "source": [
        "- For \"female\" earning more than 50k is rare.\n",
        "- But for male, around 20.0% of all people earn more than 50k ."
      ]
    },
    {
      "cell_type": "markdown",
      "id": "b2ba7117",
      "metadata": {
        "id": "b2ba7117"
      },
      "source": [
        "## Data preprocessing"
      ]
    },
    {
      "cell_type": "markdown",
      "id": "9a1fcb43",
      "metadata": {
        "id": "9a1fcb43"
      },
      "source": [
        "### Q13. Convert all categorical features in the dataset."
      ]
    },
    {
      "cell_type": "code",
      "execution_count": null,
      "id": "24843ed8",
      "metadata": {
        "id": "24843ed8"
      },
      "outputs": [],
      "source": [
        "df_cat = df.select_dtypes(include='object')\n",
        "#df_cat = df_cat.replace(to_replace =\"?\",value =\"Private\")"
      ]
    },
    {
      "cell_type": "code",
      "execution_count": null,
      "id": "04a14e96",
      "metadata": {
        "id": "04a14e96",
        "outputId": "0c9f3b4b-8442-40fd-8d4d-70c5835a87f9"
      },
      "outputs": [
        {
          "data": {
            "application/javascript": [
              "\n",
              "        if (window._pyforest_update_imports_cell) { window._pyforest_update_imports_cell('from sklearn.preprocessing import LabelEncoder'); }\n",
              "    "
            ],
            "text/plain": [
              "<IPython.core.display.Javascript object>"
            ]
          },
          "metadata": {},
          "output_type": "display_data"
        }
      ],
      "source": [
        "## Label encoding\n",
        "le = LabelEncoder()\n",
        "for col in df_cat:\n",
        "    df[col] = le.fit_transform(df[col])"
      ]
    },
    {
      "cell_type": "code",
      "execution_count": null,
      "id": "62052d50",
      "metadata": {
        "id": "62052d50"
      },
      "outputs": [],
      "source": [
        "## Standardization\n",
        "df1 = df.copy()\n",
        "scaled_features = StandardScaler().fit_transform(df1.values)\n",
        "scaled_features_df = pd.DataFrame(scaled_features, index=df1.index, columns=df1.columns)"
      ]
    },
    {
      "cell_type": "code",
      "execution_count": null,
      "id": "c0d7074b",
      "metadata": {
        "id": "c0d7074b",
        "outputId": "34e87bfd-8fe1-41d9-e453-699ffb2db0d2"
      },
      "outputs": [
        {
          "data": {
            "text/html": [
              "<div>\n",
              "<style scoped>\n",
              "    .dataframe tbody tr th:only-of-type {\n",
              "        vertical-align: middle;\n",
              "    }\n",
              "\n",
              "    .dataframe tbody tr th {\n",
              "        vertical-align: top;\n",
              "    }\n",
              "\n",
              "    .dataframe thead th {\n",
              "        text-align: right;\n",
              "    }\n",
              "</style>\n",
              "<table border=\"1\" class=\"dataframe\">\n",
              "  <thead>\n",
              "    <tr style=\"text-align: right;\">\n",
              "      <th></th>\n",
              "      <th>age</th>\n",
              "      <th>workclass</th>\n",
              "      <th>fnlwgt</th>\n",
              "      <th>education</th>\n",
              "      <th>educational-num</th>\n",
              "      <th>marital-status</th>\n",
              "      <th>occupation</th>\n",
              "      <th>relationship</th>\n",
              "      <th>race</th>\n",
              "      <th>gender</th>\n",
              "      <th>capital-gain</th>\n",
              "      <th>capital-loss</th>\n",
              "      <th>hours-per-week</th>\n",
              "      <th>native-country</th>\n",
              "      <th>income</th>\n",
              "    </tr>\n",
              "  </thead>\n",
              "  <tbody>\n",
              "    <tr>\n",
              "      <th>0</th>\n",
              "      <td>-0.989465</td>\n",
              "      <td>-0.220328</td>\n",
              "      <td>0.415027</td>\n",
              "      <td>-2.316842</td>\n",
              "      <td>-1.130972</td>\n",
              "      <td>0.889969</td>\n",
              "      <td>0.059056</td>\n",
              "      <td>0.959288</td>\n",
              "      <td>-1.899033</td>\n",
              "      <td>0.699510</td>\n",
              "      <td>-0.153686</td>\n",
              "      <td>-0.214674</td>\n",
              "      <td>-0.043987</td>\n",
              "      <td>0.253553</td>\n",
              "      <td>-0.562683</td>\n",
              "    </tr>\n",
              "    <tr>\n",
              "      <th>1</th>\n",
              "      <td>-0.041839</td>\n",
              "      <td>-0.220328</td>\n",
              "      <td>-0.965577</td>\n",
              "      <td>0.201763</td>\n",
              "      <td>-0.384866</td>\n",
              "      <td>-0.446803</td>\n",
              "      <td>-0.453188</td>\n",
              "      <td>-0.901884</td>\n",
              "      <td>0.400515</td>\n",
              "      <td>0.699510</td>\n",
              "      <td>-0.153686</td>\n",
              "      <td>-0.214674</td>\n",
              "      <td>0.780671</td>\n",
              "      <td>0.253553</td>\n",
              "      <td>-0.562683</td>\n",
              "    </tr>\n",
              "    <tr>\n",
              "      <th>2</th>\n",
              "      <td>-0.770782</td>\n",
              "      <td>-1.239283</td>\n",
              "      <td>1.525140</td>\n",
              "      <td>-0.805679</td>\n",
              "      <td>0.734292</td>\n",
              "      <td>-0.446803</td>\n",
              "      <td>1.083546</td>\n",
              "      <td>-0.901884</td>\n",
              "      <td>0.400515</td>\n",
              "      <td>0.699510</td>\n",
              "      <td>-0.153686</td>\n",
              "      <td>-0.214674</td>\n",
              "      <td>-0.043987</td>\n",
              "      <td>0.253553</td>\n",
              "      <td>1.777199</td>\n",
              "    </tr>\n",
              "    <tr>\n",
              "      <th>3</th>\n",
              "      <td>0.395526</td>\n",
              "      <td>-0.220328</td>\n",
              "      <td>-0.254967</td>\n",
              "      <td>1.209204</td>\n",
              "      <td>-0.011814</td>\n",
              "      <td>-0.446803</td>\n",
              "      <td>0.059056</td>\n",
              "      <td>-0.901884</td>\n",
              "      <td>-1.899033</td>\n",
              "      <td>0.699510</td>\n",
              "      <td>0.707694</td>\n",
              "      <td>-0.214674</td>\n",
              "      <td>-0.043987</td>\n",
              "      <td>0.253553</td>\n",
              "      <td>1.777199</td>\n",
              "    </tr>\n",
              "    <tr>\n",
              "      <th>4</th>\n",
              "      <td>-1.499726</td>\n",
              "      <td>-0.220328</td>\n",
              "      <td>-0.827676</td>\n",
              "      <td>1.209204</td>\n",
              "      <td>-0.011814</td>\n",
              "      <td>0.889969</td>\n",
              "      <td>-0.709311</td>\n",
              "      <td>0.959288</td>\n",
              "      <td>0.400515</td>\n",
              "      <td>-1.429572</td>\n",
              "      <td>-0.153686</td>\n",
              "      <td>-0.214674</td>\n",
              "      <td>-0.868646</td>\n",
              "      <td>0.253553</td>\n",
              "      <td>-0.562683</td>\n",
              "    </tr>\n",
              "  </tbody>\n",
              "</table>\n",
              "</div>"
            ],
            "text/plain": [
              "        age  workclass    fnlwgt  education  educational-num  marital-status  \\\n",
              "0 -0.989465  -0.220328  0.415027  -2.316842        -1.130972        0.889969   \n",
              "1 -0.041839  -0.220328 -0.965577   0.201763        -0.384866       -0.446803   \n",
              "2 -0.770782  -1.239283  1.525140  -0.805679         0.734292       -0.446803   \n",
              "3  0.395526  -0.220328 -0.254967   1.209204        -0.011814       -0.446803   \n",
              "4 -1.499726  -0.220328 -0.827676   1.209204        -0.011814        0.889969   \n",
              "\n",
              "   occupation  relationship      race    gender  capital-gain  capital-loss  \\\n",
              "0    0.059056      0.959288 -1.899033  0.699510     -0.153686     -0.214674   \n",
              "1   -0.453188     -0.901884  0.400515  0.699510     -0.153686     -0.214674   \n",
              "2    1.083546     -0.901884  0.400515  0.699510     -0.153686     -0.214674   \n",
              "3    0.059056     -0.901884 -1.899033  0.699510      0.707694     -0.214674   \n",
              "4   -0.709311      0.959288  0.400515 -1.429572     -0.153686     -0.214674   \n",
              "\n",
              "   hours-per-week  native-country    income  \n",
              "0       -0.043987        0.253553 -0.562683  \n",
              "1        0.780671        0.253553 -0.562683  \n",
              "2       -0.043987        0.253553  1.777199  \n",
              "3       -0.043987        0.253553  1.777199  \n",
              "4       -0.868646        0.253553 -0.562683  "
            ]
          },
          "execution_count": 23,
          "metadata": {},
          "output_type": "execute_result"
        }
      ],
      "source": [
        "scaled_features_df.head()"
      ]
    },
    {
      "cell_type": "markdown",
      "id": "85605e04",
      "metadata": {
        "id": "85605e04"
      },
      "source": [
        "## Appling PCA"
      ]
    },
    {
      "cell_type": "markdown",
      "id": "69fcb891",
      "metadata": {
        "id": "69fcb891"
      },
      "source": [
        "### Q14. Apply PCA to reduce dimensionality of the dataset."
      ]
    },
    {
      "cell_type": "code",
      "execution_count": null,
      "id": "42172ec3",
      "metadata": {
        "id": "42172ec3",
        "outputId": "b606a4fc-3cbd-4c02-c20d-dfc1b9f951b2"
      },
      "outputs": [
        {
          "name": "stdout",
          "output_type": "stream",
          "text": [
            "Covariance matrix \n",
            " [[ 1.00049505e+00  9.15276998e-02 -8.44182057e-02 -9.03575710e-02\n",
            "  -2.27608225e-02 -2.77385746e-01 -2.69467915e-02 -2.59748396e-01\n",
            "   1.20771077e-02  6.76969032e-02  7.95460244e-02  5.14831433e-02\n",
            "   6.43394289e-02  2.89572373e-02  2.06116489e-01]\n",
            " [ 9.15276998e-02  1.00049505e+00 -2.24837159e-02  7.20451556e-02\n",
            "   8.00069658e-02 -5.33132312e-02  2.63254956e-02 -7.95766286e-02\n",
            "   4.82695598e-02  5.21701189e-02  4.51658533e-02  2.27081776e-02\n",
            "   8.35674445e-02  8.23059323e-03  6.71745501e-02]\n",
            " [-8.44182057e-02 -2.24837159e-02  1.00049505e+00  1.56944047e-03\n",
            "  -4.25729441e-02  4.63336124e-02 -1.90743361e-02 -3.35947821e-03\n",
            "  -6.53773751e-03  2.02176063e-02  2.84153785e-03 -1.81121235e-02\n",
            "   8.63769198e-03 -4.33633510e-02  9.25437720e-04]\n",
            " [-9.03575710e-02  7.20451556e-02  1.56944047e-03  1.00049505e+00\n",
            "   3.86539697e-01 -3.18953899e-02 -3.15288774e-02 -2.16124048e-02\n",
            "  -9.31342988e-03 -1.30681501e-03  4.76332819e-02  4.35894295e-02\n",
            "   4.11241019e-02  7.39584533e-02  9.25789944e-02]\n",
            " [-2.27608225e-02  8.00069658e-02 -4.25729441e-02  3.86539697e-01\n",
            "   1.00049505e+00 -7.86027595e-02  1.01968566e-01 -5.75203847e-02\n",
            "   5.08116313e-02  6.30186889e-03  1.41044292e-01  1.09944565e-01\n",
            "   1.36243342e-01  1.11248725e-01  3.22199194e-01]\n",
            " [-2.77385746e-01 -5.33132312e-02  4.63336124e-02 -3.18953899e-02\n",
            "  -7.86027595e-02  1.00049505e+00 -4.67368715e-02  1.95835376e-01\n",
            "  -5.26491686e-02 -1.71279201e-01 -5.81877196e-02 -1.15093092e-02\n",
            "  -1.52849520e-01  2.31080622e-03 -2.19789829e-01]\n",
            " [-2.69467915e-02  2.63254956e-02 -1.90743361e-02 -3.15288774e-02\n",
            "   1.01968566e-01 -4.67368715e-02  1.00049505e+00 -8.68074587e-02\n",
            "   2.13824363e-02  8.68967516e-02  4.65828178e-03 -2.38816972e-02\n",
            "   6.71445981e-02 -9.96446600e-03  3.41365504e-02]\n",
            " [-2.59748396e-01 -7.95766286e-02 -3.35947821e-03 -2.16124048e-02\n",
            "  -5.75203847e-02  1.95835376e-01 -8.68074587e-02  1.00049505e+00\n",
            "  -1.61931775e-01 -5.72626249e-01 -6.18552960e-02 -1.17792896e-02\n",
            "  -2.77995100e-01  2.87890803e-03 -2.50455229e-01]\n",
            " [ 1.20771077e-02  4.82695598e-02 -6.53773751e-03 -9.31342988e-03\n",
            "   5.08116313e-02 -5.26491686e-02  2.13824363e-02 -1.61931775e-01\n",
            "   1.00049505e+00  1.01433705e-01  9.18517037e-03  5.21780392e-02\n",
            "   3.59325369e-02  1.50565891e-01  5.76616342e-02]\n",
            " [ 6.76969032e-02  5.21701189e-02  2.02176063e-02 -1.30681501e-03\n",
            "   6.30186889e-03 -1.71279201e-01  8.68967516e-02 -5.72626249e-01\n",
            "   1.01433705e-01  1.00049505e+00  6.32747775e-02  4.77562368e-02\n",
            "   2.56513579e-01 -3.52465941e-02  2.11295940e-01]\n",
            " [ 7.95460244e-02  4.51658533e-02  2.84153785e-03  4.76332819e-02\n",
            "   1.41044292e-01 -5.81877196e-02  4.65828178e-03 -6.18552960e-02\n",
            "   9.18517037e-03  6.32747775e-02  1.00049505e+00 -3.30086456e-02\n",
            "   1.10693434e-01  2.98926800e-02  2.37240648e-01]\n",
            " [ 5.14831433e-02  2.27081776e-02 -1.81121235e-02  4.35894295e-02\n",
            "   1.09944565e-01 -1.15093092e-02 -2.38816972e-02 -1.17792896e-02\n",
            "   5.21780392e-02  4.77562368e-02 -3.30086456e-02  1.00049505e+00\n",
            "   3.90243794e-02  3.70318829e-02  1.59810931e-01]\n",
            " [ 6.43394289e-02  8.35674445e-02  8.63769198e-03  4.11241019e-02\n",
            "   1.36243342e-01 -1.52849520e-01  6.71445981e-02 -2.77995100e-01\n",
            "   3.59325369e-02  2.56513579e-01  1.10693434e-01  3.90243794e-02\n",
            "   1.00049505e+00 -9.51404841e-03  2.26085338e-01]\n",
            " [ 2.89572373e-02  8.23059323e-03 -4.33633510e-02  7.39584533e-02\n",
            "   1.11248725e-01  2.31080622e-03 -9.96446600e-03  2.87890803e-03\n",
            "   1.50565891e-01 -3.52465941e-02  2.98926800e-02  3.70318829e-02\n",
            "  -9.51404841e-03  1.00049505e+00  3.30414539e-02]\n",
            " [ 2.06116489e-01  6.71745501e-02  9.25437720e-04  9.25789944e-02\n",
            "   3.22199194e-01 -2.19789829e-01  3.41365504e-02 -2.50455229e-01\n",
            "   5.76616342e-02  2.11295940e-01  2.37240648e-01  1.59810931e-01\n",
            "   2.26085338e-01  3.30414539e-02  1.00049505e+00]]\n"
          ]
        }
      ],
      "source": [
        "## Calculating covariance matrix\n",
        "cov_matrix = np.cov(scaled_features_df.T)\n",
        "print('Covariance matrix','\\n',cov_matrix)"
      ]
    },
    {
      "cell_type": "code",
      "execution_count": null,
      "id": "595b3049",
      "metadata": {
        "id": "595b3049",
        "outputId": "9830ef70-d90f-4a63-b7f5-ce3bdd22eb0d"
      },
      "outputs": [
        {
          "name": "stdout",
          "output_type": "stream",
          "text": [
            "Eigen vectors: \n",
            " [[ 2.57638184e-01  2.15084959e-01  2.96608763e-01 -2.97518919e-02\n",
            "   5.83893563e-01  4.20724458e-01  4.05495931e-01  7.21606316e-02\n",
            "  -2.36309819e-01  7.60791813e-02 -2.14514662e-01 -8.35587442e-03\n",
            "   5.64344177e-02  4.66618724e-03 -9.35068030e-04]\n",
            " [ 1.46997855e-01 -7.65056793e-02 -1.65597464e-02 -2.76000059e-04\n",
            "   8.77703785e-02 -1.63024285e-01 -9.98714641e-02 -1.54071745e-02\n",
            "  -3.79857203e-02  6.78197689e-02  8.80032599e-02 -4.65361336e-01\n",
            "   7.89620755e-01 -2.52651711e-01  1.00448778e-01]\n",
            " [-3.14572954e-02  4.06703693e-02  1.93712888e-02 -6.18206497e-02\n",
            "  -3.87824922e-01  6.33032248e-02  3.33912768e-02  1.26856310e-01\n",
            "  -5.30674154e-02  1.15961737e-01 -6.22865801e-01 -2.71360525e-01\n",
            "   1.61619732e-01  4.84030131e-01 -2.88563043e-01]\n",
            " [ 1.22120499e-01 -5.31503847e-01  3.70003635e-02  4.52457225e-01\n",
            "  -1.77047205e-01  3.86810552e-01 -1.08346724e-01  4.52686512e-02\n",
            "  -1.55156873e-01 -9.56098491e-02 -1.24504896e-01  4.18477795e-01\n",
            "   2.52640444e-01 -2.25504400e-02  1.16496989e-01]\n",
            " [ 2.52594937e-01 -5.73830287e-01  8.33073890e-02 -6.82836602e-01\n",
            "  -7.97469833e-02 -1.36372698e-01  2.60074913e-01  5.32316976e-02\n",
            "  -5.29115365e-03 -8.60183939e-02 -8.64662828e-02  5.52145756e-02\n",
            "  -7.66996289e-02 -9.36024712e-02  7.53823727e-02]\n",
            " [-3.08637142e-01 -1.09605596e-01  9.67882093e-02  8.59290342e-02\n",
            "  -3.21266303e-01  1.35938005e-01  5.51464447e-01 -1.17501129e-01\n",
            "  -3.54544653e-01  1.21072905e-01  4.86154159e-01 -2.06815270e-01\n",
            "   2.06944311e-02  1.15982999e-01 -5.48447338e-02]\n",
            " [ 1.04518578e-01  1.69884184e-02  1.10120566e-02  1.61191725e-01\n",
            "  -2.80728232e-01  1.59864335e-01 -2.59581026e-02 -1.39166549e-02\n",
            "  -1.56093948e-01  4.10768885e-02 -2.86174027e-01 -4.23195618e-01\n",
            "  -4.03435025e-01 -6.18735551e-01  1.57526328e-01]\n",
            " [-4.51623935e-01 -2.95058382e-01  6.99159503e-01  1.25423005e-01\n",
            "   1.87526016e-01 -8.44959743e-02 -1.17461517e-01  1.24794259e-01\n",
            "   2.96142021e-01  1.58924612e-03 -6.23293697e-02 -1.87707237e-01\n",
            "  -7.37221511e-02 -1.69874863e-02 -1.41397188e-02]\n",
            " [ 1.47878676e-01  8.10638998e-03  8.78444836e-02  7.09131553e-02\n",
            "  -4.10538092e-02  1.28247550e-01  1.38699217e-01 -6.63808800e-01\n",
            "   3.01950940e-01 -5.69711841e-01 -4.25412888e-02 -1.34472097e-01\n",
            "   3.56749967e-02  2.36692636e-02 -2.23242048e-01]\n",
            " [ 3.97066086e-01  3.01758120e-01  6.21075265e-01 -7.82289838e-02\n",
            "  -3.42372777e-01 -1.59796513e-01 -2.63940511e-01 -9.08407260e-02\n",
            "  -2.67038228e-01  8.16289116e-03  1.71094138e-01  1.69130618e-01\n",
            "   1.94700014e-02  7.01139131e-02  6.48549758e-02]\n",
            " [ 1.97751323e-01 -1.63669196e-01 -4.55758571e-02 -6.85880135e-02\n",
            "   1.01772246e-01  2.78620616e-01 -3.51883760e-01  3.10050741e-01\n",
            "  -1.30479444e-01 -1.62143751e-01  3.44149550e-01 -2.52616803e-01\n",
            "  -1.42362832e-01  1.68737762e-02 -6.10952625e-01]\n",
            " [ 1.13715864e-01 -1.65323483e-01 -7.75372249e-02 -4.76527243e-02\n",
            "   1.38790411e-01  2.22911846e-01 -2.88287910e-01 -1.91897523e-01\n",
            "  -5.01802711e-02  4.23722314e-02  1.16770338e-01 -3.70803666e-01\n",
            "  -1.97929054e-01  4.99678227e-01  5.64153012e-01]\n",
            " [ 3.40926508e-01  4.24870722e-02  4.75102854e-02  5.51579523e-02\n",
            "  -2.21111827e-01  2.76199278e-01  1.72211131e-01  1.29263019e-01\n",
            "   6.92186830e-01  4.25658266e-01  2.10505072e-01 -1.87748346e-02\n",
            "   9.01014022e-03  8.60590644e-04  8.23926829e-03]\n",
            " [ 5.24224544e-02 -2.37312249e-01 -1.19612118e-02  3.19791424e-02\n",
            "   1.79331939e-01 -1.14087301e-01 -1.55772986e-01 -5.62638696e-01\n",
            "  -1.27327786e-01  6.35994947e-01 -7.54949895e-02  7.20060402e-02\n",
            "  -8.98026286e-02 -4.77676004e-02 -3.34414575e-01]\n",
            " [ 4.14266050e-01 -1.78120443e-01 -2.84740902e-02  5.03014389e-01\n",
            "   1.28411573e-01 -5.60720992e-01  2.77066167e-01  1.69955190e-01\n",
            "  -2.58441825e-02 -6.98403307e-02  1.93238533e-03 -1.44648475e-01\n",
            "  -1.99046865e-01  1.95688991e-01 -4.34529988e-02]]\n",
            "\n",
            "\n",
            "Eigen values: \n",
            " [2.39206216 1.53693534 0.37741717 0.49966073 1.19840347 0.64654275\n",
            " 0.69174588 1.15021678 0.79356334 0.82009293 0.91138556 0.94347435\n",
            " 0.98301239 1.04385915 1.01905375]\n"
          ]
        }
      ],
      "source": [
        "## Calculating eigen values and eigen vectors\n",
        "eig_vals, eig_vecs = np.linalg.eig(cov_matrix)\n",
        "print('Eigen vectors:','\\n',eig_vecs)\n",
        "print('\\n')\n",
        "print('Eigen values:','\\n',eig_vals)"
      ]
    },
    {
      "cell_type": "code",
      "execution_count": null,
      "id": "34bfa766",
      "metadata": {
        "id": "34bfa766",
        "outputId": "d4c8ecf5-ec72-4827-b12b-52df8898829a"
      },
      "outputs": [
        {
          "name": "stdout",
          "output_type": "stream",
          "text": [
            "Variance Explained:  [15.93919037159644, 10.241165716382628, 7.985403278752178, 7.6643176353355225, 6.955617609564037, 6.7903300939374684, 6.5501732446196765, 6.286716744315754, 6.072897378931625, 5.4645809947760275, 5.287804543736517, 4.609357307934316, 4.308152281570252, 3.3294233150968777, 2.514869483450705]\n",
            "Cummulative Variance Explained:  [ 15.93919037  26.18035609  34.16575937  41.830077    48.78569461\n",
            "  55.57602471  62.12619795  68.41291469  74.48581207  79.95039307\n",
            "  85.23819761  89.84755492  94.1557072   97.48513052 100.        ]\n"
          ]
        }
      ],
      "source": [
        "total = sum(eig_vals)\n",
        "var_exp = [ (i/total)*100  for i in sorted(eig_vals,reverse=True)]\n",
        "cum_var_exp = np.cumsum(var_exp)\n",
        "print('Variance Explained: ',var_exp)\n",
        "print('Cummulative Variance Explained: ',cum_var_exp)"
      ]
    },
    {
      "cell_type": "code",
      "execution_count": null,
      "id": "f38a9509",
      "metadata": {
        "id": "f38a9509",
        "outputId": "4e4af282-e576-4f52-9341-5b0aad0e038a"
      },
      "outputs": [
        {
          "data": {
            "image/png": "[encoded data removed]",
            "text/plain": [
              "<Figure size 432x288 with 1 Axes>"
            ]
          },
          "metadata": {
            "needs_background": "light"
          },
          "output_type": "display_data"
        }
      ],
      "source": [
        "plt.bar(range(15),var_exp, align='center',color='lightgreen',edgecolor='black',label='Indiviual Explained Varinace')\n",
        "plt.step(range(15), cum_var_exp, where='mid',color='red',label='Cummulative explained Variance')\n",
        "plt.legend(loc = 'best')\n",
        "plt.ylabel('Explained Variance Ratio')\n",
        "plt.xlabel('Principal Components')\n",
        "plt.tight_layout()\n",
        "plt.show()"
      ]
    },
    {
      "cell_type": "markdown",
      "id": "ea02c1c7",
      "metadata": {
        "id": "ea02c1c7"
      },
      "source": [
        "- We can see that approximately 80.0% of variance is explained by the first 10 variables.\n",
        "- so, we can choose the optimal number of principal components as 10."
      ]
    },
    {
      "cell_type": "code",
      "execution_count": null,
      "id": "159b5aa6",
      "metadata": {
        "id": "159b5aa6",
        "outputId": "397110e3-e53b-4590-d28a-60a027a62807"
      },
      "outputs": [
        {
          "data": {
            "text/plain": [
              "PCA(n_components=10)"
            ]
          },
          "execution_count": 28,
          "metadata": {},
          "output_type": "execute_result"
        }
      ],
      "source": [
        "pca=PCA(n_components = 10)\n",
        "pca.fit(scaled_features_df)"
      ]
    },
    {
      "cell_type": "code",
      "execution_count": null,
      "id": "63b86278",
      "metadata": {
        "id": "63b86278",
        "outputId": "0f0dc2c7-0516-4524-ba73-b705121637e9"
      },
      "outputs": [
        {
          "data": {
            "text/html": [
              "<div>\n",
              "<style scoped>\n",
              "    .dataframe tbody tr th:only-of-type {\n",
              "        vertical-align: middle;\n",
              "    }\n",
              "\n",
              "    .dataframe tbody tr th {\n",
              "        vertical-align: top;\n",
              "    }\n",
              "\n",
              "    .dataframe thead th {\n",
              "        text-align: right;\n",
              "    }\n",
              "</style>\n",
              "<table border=\"1\" class=\"dataframe\">\n",
              "  <thead>\n",
              "    <tr style=\"text-align: right;\">\n",
              "      <th></th>\n",
              "      <th>PC1</th>\n",
              "      <th>PC2</th>\n",
              "      <th>PC3</th>\n",
              "      <th>PC4</th>\n",
              "      <th>PC5</th>\n",
              "      <th>PC6</th>\n",
              "      <th>PC7</th>\n",
              "      <th>PC8</th>\n",
              "      <th>PC9</th>\n",
              "      <th>PC10</th>\n",
              "    </tr>\n",
              "  </thead>\n",
              "  <tbody>\n",
              "    <tr>\n",
              "      <th>0</th>\n",
              "      <td>-1.863405</td>\n",
              "      <td>1.616243</td>\n",
              "      <td>0.604286</td>\n",
              "      <td>0.780499</td>\n",
              "      <td>0.232403</td>\n",
              "      <td>0.167807</td>\n",
              "      <td>-0.638376</td>\n",
              "      <td>0.830357</td>\n",
              "      <td>0.769600</td>\n",
              "      <td>1.673673</td>\n",
              "    </tr>\n",
              "    <tr>\n",
              "      <th>1</th>\n",
              "      <td>0.740996</td>\n",
              "      <td>0.737776</td>\n",
              "      <td>0.073456</td>\n",
              "      <td>-0.660453</td>\n",
              "      <td>-0.309406</td>\n",
              "      <td>-0.091730</td>\n",
              "      <td>0.176715</td>\n",
              "      <td>-1.149435</td>\n",
              "      <td>0.736648</td>\n",
              "      <td>0.135785</td>\n",
              "    </tr>\n",
              "    <tr>\n",
              "      <th>2</th>\n",
              "      <td>1.333525</td>\n",
              "      <td>0.227786</td>\n",
              "      <td>1.413957</td>\n",
              "      <td>-0.097731</td>\n",
              "      <td>0.574525</td>\n",
              "      <td>0.628063</td>\n",
              "      <td>-1.699970</td>\n",
              "      <td>0.379289</td>\n",
              "      <td>-1.328221</td>\n",
              "      <td>-0.151213</td>\n",
              "    </tr>\n",
              "    <tr>\n",
              "      <th>3</th>\n",
              "      <td>1.620595</td>\n",
              "      <td>-0.491519</td>\n",
              "      <td>-0.219290</td>\n",
              "      <td>1.604197</td>\n",
              "      <td>0.079296</td>\n",
              "      <td>0.008933</td>\n",
              "      <td>-0.342345</td>\n",
              "      <td>-0.947008</td>\n",
              "      <td>0.121129</td>\n",
              "      <td>0.800066</td>\n",
              "    </tr>\n",
              "    <tr>\n",
              "      <th>4</th>\n",
              "      <td>-2.109267</td>\n",
              "      <td>-1.732279</td>\n",
              "      <td>0.101220</td>\n",
              "      <td>-0.623730</td>\n",
              "      <td>-0.175897</td>\n",
              "      <td>0.092863</td>\n",
              "      <td>0.280105</td>\n",
              "      <td>-0.719828</td>\n",
              "      <td>0.701509</td>\n",
              "      <td>-0.652690</td>\n",
              "    </tr>\n",
              "  </tbody>\n",
              "</table>\n",
              "</div>"
            ],
            "text/plain": [
              "        PC1       PC2       PC3       PC4       PC5       PC6       PC7  \\\n",
              "0 -1.863405  1.616243  0.604286  0.780499  0.232403  0.167807 -0.638376   \n",
              "1  0.740996  0.737776  0.073456 -0.660453 -0.309406 -0.091730  0.176715   \n",
              "2  1.333525  0.227786  1.413957 -0.097731  0.574525  0.628063 -1.699970   \n",
              "3  1.620595 -0.491519 -0.219290  1.604197  0.079296  0.008933 -0.342345   \n",
              "4 -2.109267 -1.732279  0.101220 -0.623730 -0.175897  0.092863  0.280105   \n",
              "\n",
              "        PC8       PC9      PC10  \n",
              "0  0.830357  0.769600  1.673673  \n",
              "1 -1.149435  0.736648  0.135785  \n",
              "2  0.379289 -1.328221 -0.151213  \n",
              "3 -0.947008  0.121129  0.800066  \n",
              "4 -0.719828  0.701509 -0.652690  "
            ]
          },
          "execution_count": 29,
          "metadata": {},
          "output_type": "execute_result"
        }
      ],
      "source": [
        "data_pca = pca.transform(scaled_features_df)\n",
        "data_pca = pd.DataFrame(data_pca,columns=['PC1','PC2','PC3','PC4','PC5','PC6','PC7','PC8','PC9','PC10'])\n",
        "data_pca.head()"
      ]
    },
    {
      "cell_type": "markdown",
      "id": "83884044",
      "metadata": {
        "id": "83884044"
      },
      "source": [
        "## K-means"
      ]
    },
    {
      "cell_type": "markdown",
      "id": "9d631d8c",
      "metadata": {
        "id": "9d631d8c"
      },
      "source": [
        "### Q15. Apply k-means and try to find the optimum cluster number ."
      ]
    },
    {
      "cell_type": "code",
      "execution_count": null,
      "id": "9a1cd8da",
      "metadata": {
        "id": "9a1cd8da",
        "outputId": "47b9af39-b799-4439-8a3a-e1b6f6019f46"
      },
      "outputs": [
        {
          "data": {
            "text/html": [
              "<div>\n",
              "<style scoped>\n",
              "    .dataframe tbody tr th:only-of-type {\n",
              "        vertical-align: middle;\n",
              "    }\n",
              "\n",
              "    .dataframe tbody tr th {\n",
              "        vertical-align: top;\n",
              "    }\n",
              "\n",
              "    .dataframe thead th {\n",
              "        text-align: right;\n",
              "    }\n",
              "</style>\n",
              "<table border=\"1\" class=\"dataframe\">\n",
              "  <thead>\n",
              "    <tr style=\"text-align: right;\">\n",
              "      <th></th>\n",
              "      <th>num_clusters</th>\n",
              "      <th>cluster_errors</th>\n",
              "    </tr>\n",
              "  </thead>\n",
              "  <tbody>\n",
              "    <tr>\n",
              "      <th>0</th>\n",
              "      <td>1</td>\n",
              "      <td>24236.961659</td>\n",
              "    </tr>\n",
              "    <tr>\n",
              "      <th>1</th>\n",
              "      <td>2</td>\n",
              "      <td>20735.650109</td>\n",
              "    </tr>\n",
              "    <tr>\n",
              "      <th>2</th>\n",
              "      <td>3</td>\n",
              "      <td>18826.576744</td>\n",
              "    </tr>\n",
              "    <tr>\n",
              "      <th>3</th>\n",
              "      <td>4</td>\n",
              "      <td>17152.542371</td>\n",
              "    </tr>\n",
              "    <tr>\n",
              "      <th>4</th>\n",
              "      <td>5</td>\n",
              "      <td>15552.840299</td>\n",
              "    </tr>\n",
              "    <tr>\n",
              "      <th>5</th>\n",
              "      <td>6</td>\n",
              "      <td>14418.314124</td>\n",
              "    </tr>\n",
              "    <tr>\n",
              "      <th>6</th>\n",
              "      <td>7</td>\n",
              "      <td>13799.884842</td>\n",
              "    </tr>\n",
              "    <tr>\n",
              "      <th>7</th>\n",
              "      <td>8</td>\n",
              "      <td>12388.425130</td>\n",
              "    </tr>\n",
              "    <tr>\n",
              "      <th>8</th>\n",
              "      <td>9</td>\n",
              "      <td>11656.508515</td>\n",
              "    </tr>\n",
              "    <tr>\n",
              "      <th>9</th>\n",
              "      <td>10</td>\n",
              "      <td>11059.249294</td>\n",
              "    </tr>\n",
              "    <tr>\n",
              "      <th>10</th>\n",
              "      <td>11</td>\n",
              "      <td>10608.386559</td>\n",
              "    </tr>\n",
              "    <tr>\n",
              "      <th>11</th>\n",
              "      <td>12</td>\n",
              "      <td>10230.217614</td>\n",
              "    </tr>\n",
              "    <tr>\n",
              "      <th>12</th>\n",
              "      <td>13</td>\n",
              "      <td>9904.330033</td>\n",
              "    </tr>\n",
              "    <tr>\n",
              "      <th>13</th>\n",
              "      <td>14</td>\n",
              "      <td>9639.154776</td>\n",
              "    </tr>\n",
              "  </tbody>\n",
              "</table>\n",
              "</div>"
            ],
            "text/plain": [
              "    num_clusters  cluster_errors\n",
              "0              1    24236.961659\n",
              "1              2    20735.650109\n",
              "2              3    18826.576744\n",
              "3              4    17152.542371\n",
              "4              5    15552.840299\n",
              "5              6    14418.314124\n",
              "6              7    13799.884842\n",
              "7              8    12388.425130\n",
              "8              9    11656.508515\n",
              "9             10    11059.249294\n",
              "10            11    10608.386559\n",
              "11            12    10230.217614\n",
              "12            13     9904.330033\n",
              "13            14     9639.154776"
            ]
          },
          "execution_count": 30,
          "metadata": {},
          "output_type": "execute_result"
        }
      ],
      "source": [
        "cluster_range = range(1,15)\n",
        "cluster_errors = []\n",
        "\n",
        "for num_clusters in cluster_range:\n",
        "   \n",
        "    clusters = KMeans(num_clusters, n_init=10)\n",
        "    clusters.fit(data_pca)\n",
        "    \n",
        "    labels = clusters.labels_\n",
        "    centroids = clusters.cluster_centers_\n",
        "    \n",
        "    cluster_errors.append(clusters.inertia_)\n",
        "\n",
        "clusters_df = pd.DataFrame({'num_clusters':cluster_range, \n",
        "                           'cluster_errors':cluster_errors})\n",
        "\n",
        "clusters_df"
      ]
    },
    {
      "cell_type": "code",
      "execution_count": null,
      "id": "3b969557",
      "metadata": {
        "id": "3b969557",
        "outputId": "6663ef34-e035-4e19-8bb4-00f519857448"
      },
      "outputs": [
        {
          "data": {
            "image/png": "[encoded data removed]",
            "text/plain": [
              "<Figure size 864x432 with 1 Axes>"
            ]
          },
          "metadata": {
            "needs_background": "light"
          },
          "output_type": "display_data"
        }
      ],
      "source": [
        "## Elbow method\n",
        "plt.figure(figsize=[12,6])\n",
        "plt.title('The Elbow Method')\n",
        "plt.xlabel('Number of clusters using PCA')\n",
        "plt.plot(clusters_df['num_clusters'],clusters_df['cluster_errors'],marker='o',color='b')\n",
        "plt.show()"
      ]
    },
    {
      "cell_type": "markdown",
      "id": "8d3fbd78",
      "metadata": {
        "id": "8d3fbd78"
      },
      "source": [
        "- From the Elbow plot, we can see that at K=6 the interia starts to drop significantly. So we will do it using 6 clusters. \n",
        "- The clusters are labeled as 0,1,2,3,4,5."
      ]
    },
    {
      "cell_type": "code",
      "execution_count": null,
      "id": "718569ae",
      "metadata": {
        "id": "718569ae",
        "outputId": "972266ff-b686-40b6-dbc4-8d2d31df2c03"
      },
      "outputs": [
        {
          "data": {
            "text/plain": [
              "KMeans(n_clusters=6, n_init=15, random_state=2345)"
            ]
          },
          "execution_count": 40,
          "metadata": {},
          "output_type": "execute_result"
        }
      ],
      "source": [
        "## Fit the KMeans clustering model using the obtained optimal K\n",
        "kmeans = KMeans(n_clusters=6, n_init=15, random_state=2345)\n",
        "kmeans.fit(data_pca)"
      ]
    },
    {
      "cell_type": "code",
      "execution_count": null,
      "id": "504efa02",
      "metadata": {
        "id": "504efa02",
        "outputId": "2b8b7a31-b263-4950-abdb-77b4bca1b05c"
      },
      "outputs": [
        {
          "data": {
            "text/plain": [
              "array([2, 1, 1, ..., 4, 4, 3])"
            ]
          },
          "execution_count": 41,
          "metadata": {},
          "output_type": "execute_result"
        }
      ],
      "source": [
        "## obtained labels from kmeans clustering\n",
        "kmeans.labels_"
      ]
    },
    {
      "cell_type": "code",
      "execution_count": null,
      "id": "a5fb2524",
      "metadata": {
        "id": "a5fb2524",
        "outputId": "e7c9371f-8b3b-468e-c305-b0a26889a2d3"
      },
      "outputs": [
        {
          "data": {
            "text/html": [
              "<div>\n",
              "<style scoped>\n",
              "    .dataframe tbody tr th:only-of-type {\n",
              "        vertical-align: middle;\n",
              "    }\n",
              "\n",
              "    .dataframe tbody tr th {\n",
              "        vertical-align: top;\n",
              "    }\n",
              "\n",
              "    .dataframe thead th {\n",
              "        text-align: right;\n",
              "    }\n",
              "</style>\n",
              "<table border=\"1\" class=\"dataframe\">\n",
              "  <thead>\n",
              "    <tr style=\"text-align: right;\">\n",
              "      <th></th>\n",
              "      <th>Labels</th>\n",
              "    </tr>\n",
              "  </thead>\n",
              "  <tbody>\n",
              "    <tr>\n",
              "      <th>0</th>\n",
              "      <td>2</td>\n",
              "    </tr>\n",
              "    <tr>\n",
              "      <th>1</th>\n",
              "      <td>1</td>\n",
              "    </tr>\n",
              "    <tr>\n",
              "      <th>2</th>\n",
              "      <td>1</td>\n",
              "    </tr>\n",
              "    <tr>\n",
              "      <th>3</th>\n",
              "      <td>1</td>\n",
              "    </tr>\n",
              "    <tr>\n",
              "      <th>4</th>\n",
              "      <td>4</td>\n",
              "    </tr>\n",
              "  </tbody>\n",
              "</table>\n",
              "</div>"
            ],
            "text/plain": [
              "   Labels\n",
              "0       2\n",
              "1       1\n",
              "2       1\n",
              "3       1\n",
              "4       4"
            ]
          },
          "execution_count": 42,
          "metadata": {},
          "output_type": "execute_result"
        }
      ],
      "source": [
        "## Creating a new dataframe only for labels and converting it into categorical variables.\n",
        "df_labels = pd.DataFrame(kmeans.labels_, columns=list(['Labels']))\n",
        "df_labels.head(5)"
      ]
    },
    {
      "cell_type": "code",
      "execution_count": null,
      "id": "6f44733b",
      "metadata": {
        "id": "6f44733b"
      },
      "outputs": [],
      "source": [
        "df_labels['Labels'] = df_labels['Labels'].astype('category')"
      ]
    },
    {
      "cell_type": "code",
      "execution_count": null,
      "id": "0bd67d5b",
      "metadata": {
        "id": "0bd67d5b",
        "outputId": "45988517-d941-4b9c-98ce-b8ac5e11c30e"
      },
      "outputs": [
        {
          "data": {
            "text/html": [
              "<div>\n",
              "<style scoped>\n",
              "    .dataframe tbody tr th:only-of-type {\n",
              "        vertical-align: middle;\n",
              "    }\n",
              "\n",
              "    .dataframe tbody tr th {\n",
              "        vertical-align: top;\n",
              "    }\n",
              "\n",
              "    .dataframe thead th {\n",
              "        text-align: right;\n",
              "    }\n",
              "</style>\n",
              "<table border=\"1\" class=\"dataframe\">\n",
              "  <thead>\n",
              "    <tr style=\"text-align: right;\">\n",
              "      <th></th>\n",
              "      <th>age</th>\n",
              "      <th>workclass</th>\n",
              "      <th>fnlwgt</th>\n",
              "      <th>education</th>\n",
              "      <th>educational-num</th>\n",
              "      <th>marital-status</th>\n",
              "      <th>occupation</th>\n",
              "      <th>relationship</th>\n",
              "      <th>race</th>\n",
              "      <th>gender</th>\n",
              "      <th>capital-gain</th>\n",
              "      <th>capital-loss</th>\n",
              "      <th>hours-per-week</th>\n",
              "      <th>native-country</th>\n",
              "      <th>income</th>\n",
              "      <th>Labels</th>\n",
              "    </tr>\n",
              "  </thead>\n",
              "  <tbody>\n",
              "    <tr>\n",
              "      <th>0</th>\n",
              "      <td>25</td>\n",
              "      <td>2</td>\n",
              "      <td>226802</td>\n",
              "      <td>1</td>\n",
              "      <td>7</td>\n",
              "      <td>4</td>\n",
              "      <td>6</td>\n",
              "      <td>3</td>\n",
              "      <td>2</td>\n",
              "      <td>1</td>\n",
              "      <td>0</td>\n",
              "      <td>0</td>\n",
              "      <td>40</td>\n",
              "      <td>31</td>\n",
              "      <td>0</td>\n",
              "      <td>2</td>\n",
              "    </tr>\n",
              "    <tr>\n",
              "      <th>1</th>\n",
              "      <td>38</td>\n",
              "      <td>2</td>\n",
              "      <td>89814</td>\n",
              "      <td>11</td>\n",
              "      <td>9</td>\n",
              "      <td>2</td>\n",
              "      <td>4</td>\n",
              "      <td>0</td>\n",
              "      <td>4</td>\n",
              "      <td>1</td>\n",
              "      <td>0</td>\n",
              "      <td>0</td>\n",
              "      <td>50</td>\n",
              "      <td>31</td>\n",
              "      <td>0</td>\n",
              "      <td>1</td>\n",
              "    </tr>\n",
              "    <tr>\n",
              "      <th>2</th>\n",
              "      <td>28</td>\n",
              "      <td>1</td>\n",
              "      <td>336951</td>\n",
              "      <td>7</td>\n",
              "      <td>12</td>\n",
              "      <td>2</td>\n",
              "      <td>10</td>\n",
              "      <td>0</td>\n",
              "      <td>4</td>\n",
              "      <td>1</td>\n",
              "      <td>0</td>\n",
              "      <td>0</td>\n",
              "      <td>40</td>\n",
              "      <td>31</td>\n",
              "      <td>1</td>\n",
              "      <td>1</td>\n",
              "    </tr>\n",
              "    <tr>\n",
              "      <th>3</th>\n",
              "      <td>44</td>\n",
              "      <td>2</td>\n",
              "      <td>160323</td>\n",
              "      <td>15</td>\n",
              "      <td>10</td>\n",
              "      <td>2</td>\n",
              "      <td>6</td>\n",
              "      <td>0</td>\n",
              "      <td>2</td>\n",
              "      <td>1</td>\n",
              "      <td>7688</td>\n",
              "      <td>0</td>\n",
              "      <td>40</td>\n",
              "      <td>31</td>\n",
              "      <td>1</td>\n",
              "      <td>1</td>\n",
              "    </tr>\n",
              "    <tr>\n",
              "      <th>4</th>\n",
              "      <td>18</td>\n",
              "      <td>2</td>\n",
              "      <td>103497</td>\n",
              "      <td>15</td>\n",
              "      <td>10</td>\n",
              "      <td>4</td>\n",
              "      <td>3</td>\n",
              "      <td>3</td>\n",
              "      <td>4</td>\n",
              "      <td>0</td>\n",
              "      <td>0</td>\n",
              "      <td>0</td>\n",
              "      <td>30</td>\n",
              "      <td>31</td>\n",
              "      <td>0</td>\n",
              "      <td>4</td>\n",
              "    </tr>\n",
              "  </tbody>\n",
              "</table>\n",
              "</div>"
            ],
            "text/plain": [
              "   age  workclass  fnlwgt  education  educational-num  marital-status  \\\n",
              "0   25          2  226802          1                7               4   \n",
              "1   38          2   89814         11                9               2   \n",
              "2   28          1  336951          7               12               2   \n",
              "3   44          2  160323         15               10               2   \n",
              "4   18          2  103497         15               10               4   \n",
              "\n",
              "   occupation  relationship  race  gender  capital-gain  capital-loss  \\\n",
              "0           6             3     2       1             0             0   \n",
              "1           4             0     4       1             0             0   \n",
              "2          10             0     4       1             0             0   \n",
              "3           6             0     2       1          7688             0   \n",
              "4           3             3     4       0             0             0   \n",
              "\n",
              "   hours-per-week  native-country  income Labels  \n",
              "0              40              31       0      2  \n",
              "1              50              31       0      1  \n",
              "2              40              31       1      1  \n",
              "3              40              31       1      1  \n",
              "4              30              31       0      4  "
            ]
          },
          "execution_count": 44,
          "metadata": {},
          "output_type": "execute_result"
        }
      ],
      "source": [
        "## joining the label dataframe with unscaled initial dataframe.(df)\n",
        "\n",
        "df_kmeans = df.join(df_labels)\n",
        "\n",
        "df_kmeans.head()"
      ]
    },
    {
      "cell_type": "code",
      "execution_count": null,
      "id": "2d9e57c0",
      "metadata": {
        "id": "2d9e57c0",
        "outputId": "78618e0a-6d0d-4b74-8f48-3925fcf53bfc"
      },
      "outputs": [
        {
          "data": {
            "text/plain": [
              "1    797\n",
              "4    628\n",
              "2    273\n",
              "3    219\n",
              "0     89\n",
              "5     15\n",
              "Name: Labels, dtype: int64"
            ]
          },
          "execution_count": 45,
          "metadata": {},
          "output_type": "execute_result"
        }
      ],
      "source": [
        "df_kmeans['Labels'].value_counts()"
      ]
    },
    {
      "cell_type": "code",
      "execution_count": null,
      "id": "cfe9c0a8",
      "metadata": {
        "id": "cfe9c0a8",
        "outputId": "381cfaa8-15fc-432d-9fd4-422e2b0929e6"
      },
      "outputs": [
        {
          "data": {
            "image/png": "[encoded data removed]",
            "text/plain": [
              "<Figure size 432x288 with 1 Axes>"
            ]
          },
          "metadata": {
            "needs_background": "light"
          },
          "output_type": "display_data"
        }
      ],
      "source": [
        "sns.scatterplot(df_kmeans['age'],df_kmeans['fnlwgt'],hue='Labels',data=df_kmeans)\n",
        "plt.show()"
      ]
    },
    {
      "cell_type": "markdown",
      "id": "58026f8a",
      "metadata": {
        "id": "58026f8a"
      },
      "source": [
        "### Q16. Compute Silhoutte Score for validating the best optimal number of clusters."
      ]
    },
    {
      "cell_type": "code",
      "execution_count": null,
      "id": "ec6a056c",
      "metadata": {
        "id": "ec6a056c",
        "outputId": "9e4faf4d-5a40-4f7a-c208-28fc45ba6b65"
      },
      "outputs": [
        {
          "name": "stdout",
          "output_type": "stream",
          "text": [
            "2 0.15936357909387103\n",
            "3 0.17001404758275473\n",
            "4 0.18579224434914818\n",
            "5 0.17493215712483867\n",
            "6 0.20327198752337053\n",
            "7 0.1745875625784687\n",
            "8 0.19172991902972672\n",
            "9 0.17525337196098706\n",
            "10 0.17623964811453977\n",
            "11 0.18538089746658487\n",
            "12 0.1874939496283953\n",
            "13 0.16407207132795387\n",
            "14 0.1676301675365835\n"
          ]
        }
      ],
      "source": [
        "from sklearn.metrics import silhouette_score\n",
        "\n",
        "kmeans_score = []\n",
        "\n",
        "for i in range(2,15):\n",
        "    kmeans = KMeans(n_clusters=i)\n",
        "    kmeans = kmeans.fit(data_pca)\n",
        "    labels = kmeans.predict(data_pca)\n",
        "    print(i,silhouette_score(data_pca,labels))"
      ]
    },
    {
      "cell_type": "markdown",
      "id": "9de814ba",
      "metadata": {
        "id": "9de814ba"
      },
      "source": [
        " - From above, we can observe that for 6 clusters the silhoutte score is highest, we can choose optimal clusters as K=6"
      ]
    },
    {
      "cell_type": "markdown",
      "id": "69e6e801",
      "metadata": {
        "id": "69e6e801"
      },
      "source": [
        "## Dendrograms"
      ]
    },
    {
      "cell_type": "markdown",
      "id": "2a69d82f",
      "metadata": {
        "id": "2a69d82f"
      },
      "source": [
        "### Q17. Apply dendrograms to find the number of classes in the dataset. "
      ]
    },
    {
      "cell_type": "code",
      "execution_count": null,
      "id": "0b409012",
      "metadata": {
        "id": "0b409012",
        "outputId": "d8f41d8f-d297-4e3b-f1a5-65a2f17d2ca3"
      },
      "outputs": [
        {
          "data": {
            "image/png": "[encoded data removed]",
            "text/plain": [
              "<Figure size 1296x504 with 1 Axes>"
            ]
          },
          "metadata": {
            "needs_background": "light"
          },
          "output_type": "display_data"
        }
      ],
      "source": [
        "plt.figure(figsize=[18,7])\n",
        "merg = linkage(data_pca, method='ward')\n",
        "dendrogram(merg, leaf_rotation=90,)\n",
        "plt.xlabel('Datapoints')\n",
        "plt.ylabel('Euclidean distance')\n",
        "plt.show()"
      ]
    },
    {
      "cell_type": "markdown",
      "id": "b267725c",
      "metadata": {
        "id": "b267725c"
      },
      "source": [
        "- We look for the largest distance that we can vertically observe without crossing any horizontal line.\n",
        "- We can observe that there are 4 classes from the dendogram"
      ]
    },
    {
      "cell_type": "code",
      "execution_count": null,
      "id": "94321917",
      "metadata": {
        "id": "94321917"
      },
      "outputs": [],
      "source": [
        "hie_cluster = AgglomerativeClustering(n_clusters=4, affinity='euclidean',\n",
        "                                     linkage='ward')\n",
        "hie_cluster_model = hie_cluster.fit(data_pca)"
      ]
    },
    {
      "cell_type": "code",
      "execution_count": null,
      "id": "3a57e5d1",
      "metadata": {
        "id": "3a57e5d1",
        "outputId": "89327e6b-3668-4e3b-d00a-e496243d9830"
      },
      "outputs": [
        {
          "data": {
            "text/html": [
              "<div>\n",
              "<style scoped>\n",
              "    .dataframe tbody tr th:only-of-type {\n",
              "        vertical-align: middle;\n",
              "    }\n",
              "\n",
              "    .dataframe tbody tr th {\n",
              "        vertical-align: top;\n",
              "    }\n",
              "\n",
              "    .dataframe thead th {\n",
              "        text-align: right;\n",
              "    }\n",
              "</style>\n",
              "<table border=\"1\" class=\"dataframe\">\n",
              "  <thead>\n",
              "    <tr style=\"text-align: right;\">\n",
              "      <th></th>\n",
              "      <th>Labels</th>\n",
              "    </tr>\n",
              "  </thead>\n",
              "  <tbody>\n",
              "    <tr>\n",
              "      <th>0</th>\n",
              "      <td>1</td>\n",
              "    </tr>\n",
              "    <tr>\n",
              "      <th>1</th>\n",
              "      <td>0</td>\n",
              "    </tr>\n",
              "    <tr>\n",
              "      <th>2</th>\n",
              "      <td>0</td>\n",
              "    </tr>\n",
              "    <tr>\n",
              "      <th>3</th>\n",
              "      <td>2</td>\n",
              "    </tr>\n",
              "    <tr>\n",
              "      <th>4</th>\n",
              "      <td>2</td>\n",
              "    </tr>\n",
              "  </tbody>\n",
              "</table>\n",
              "</div>"
            ],
            "text/plain": [
              "   Labels\n",
              "0       1\n",
              "1       0\n",
              "2       0\n",
              "3       2\n",
              "4       2"
            ]
          },
          "execution_count": 51,
          "metadata": {},
          "output_type": "execute_result"
        }
      ],
      "source": [
        "## Creating a dataframe of the labels\n",
        "df_label1 = pd.DataFrame(hie_cluster_model.labels_,columns=['Labels'])\n",
        "df_label1.head(5)"
      ]
    },
    {
      "cell_type": "code",
      "execution_count": null,
      "id": "900f379a",
      "metadata": {
        "id": "900f379a",
        "outputId": "2cf247b3-58db-4a49-e254-3ad54c4298f5"
      },
      "outputs": [
        {
          "data": {
            "text/html": [
              "<div>\n",
              "<style scoped>\n",
              "    .dataframe tbody tr th:only-of-type {\n",
              "        vertical-align: middle;\n",
              "    }\n",
              "\n",
              "    .dataframe tbody tr th {\n",
              "        vertical-align: top;\n",
              "    }\n",
              "\n",
              "    .dataframe thead th {\n",
              "        text-align: right;\n",
              "    }\n",
              "</style>\n",
              "<table border=\"1\" class=\"dataframe\">\n",
              "  <thead>\n",
              "    <tr style=\"text-align: right;\">\n",
              "      <th></th>\n",
              "      <th>age</th>\n",
              "      <th>workclass</th>\n",
              "      <th>fnlwgt</th>\n",
              "      <th>education</th>\n",
              "      <th>educational-num</th>\n",
              "      <th>marital-status</th>\n",
              "      <th>occupation</th>\n",
              "      <th>relationship</th>\n",
              "      <th>race</th>\n",
              "      <th>gender</th>\n",
              "      <th>capital-gain</th>\n",
              "      <th>capital-loss</th>\n",
              "      <th>hours-per-week</th>\n",
              "      <th>native-country</th>\n",
              "      <th>income</th>\n",
              "      <th>Labels</th>\n",
              "    </tr>\n",
              "  </thead>\n",
              "  <tbody>\n",
              "    <tr>\n",
              "      <th>0</th>\n",
              "      <td>25</td>\n",
              "      <td>2</td>\n",
              "      <td>226802</td>\n",
              "      <td>1</td>\n",
              "      <td>7</td>\n",
              "      <td>4</td>\n",
              "      <td>6</td>\n",
              "      <td>3</td>\n",
              "      <td>2</td>\n",
              "      <td>1</td>\n",
              "      <td>0</td>\n",
              "      <td>0</td>\n",
              "      <td>40</td>\n",
              "      <td>31</td>\n",
              "      <td>0</td>\n",
              "      <td>1</td>\n",
              "    </tr>\n",
              "    <tr>\n",
              "      <th>1</th>\n",
              "      <td>38</td>\n",
              "      <td>2</td>\n",
              "      <td>89814</td>\n",
              "      <td>11</td>\n",
              "      <td>9</td>\n",
              "      <td>2</td>\n",
              "      <td>4</td>\n",
              "      <td>0</td>\n",
              "      <td>4</td>\n",
              "      <td>1</td>\n",
              "      <td>0</td>\n",
              "      <td>0</td>\n",
              "      <td>50</td>\n",
              "      <td>31</td>\n",
              "      <td>0</td>\n",
              "      <td>0</td>\n",
              "    </tr>\n",
              "    <tr>\n",
              "      <th>2</th>\n",
              "      <td>28</td>\n",
              "      <td>1</td>\n",
              "      <td>336951</td>\n",
              "      <td>7</td>\n",
              "      <td>12</td>\n",
              "      <td>2</td>\n",
              "      <td>10</td>\n",
              "      <td>0</td>\n",
              "      <td>4</td>\n",
              "      <td>1</td>\n",
              "      <td>0</td>\n",
              "      <td>0</td>\n",
              "      <td>40</td>\n",
              "      <td>31</td>\n",
              "      <td>1</td>\n",
              "      <td>0</td>\n",
              "    </tr>\n",
              "    <tr>\n",
              "      <th>3</th>\n",
              "      <td>44</td>\n",
              "      <td>2</td>\n",
              "      <td>160323</td>\n",
              "      <td>15</td>\n",
              "      <td>10</td>\n",
              "      <td>2</td>\n",
              "      <td>6</td>\n",
              "      <td>0</td>\n",
              "      <td>2</td>\n",
              "      <td>1</td>\n",
              "      <td>7688</td>\n",
              "      <td>0</td>\n",
              "      <td>40</td>\n",
              "      <td>31</td>\n",
              "      <td>1</td>\n",
              "      <td>2</td>\n",
              "    </tr>\n",
              "    <tr>\n",
              "      <th>4</th>\n",
              "      <td>18</td>\n",
              "      <td>2</td>\n",
              "      <td>103497</td>\n",
              "      <td>15</td>\n",
              "      <td>10</td>\n",
              "      <td>4</td>\n",
              "      <td>3</td>\n",
              "      <td>3</td>\n",
              "      <td>4</td>\n",
              "      <td>0</td>\n",
              "      <td>0</td>\n",
              "      <td>0</td>\n",
              "      <td>30</td>\n",
              "      <td>31</td>\n",
              "      <td>0</td>\n",
              "      <td>2</td>\n",
              "    </tr>\n",
              "  </tbody>\n",
              "</table>\n",
              "</div>"
            ],
            "text/plain": [
              "   age  workclass  fnlwgt  education  educational-num  marital-status  \\\n",
              "0   25          2  226802          1                7               4   \n",
              "1   38          2   89814         11                9               2   \n",
              "2   28          1  336951          7               12               2   \n",
              "3   44          2  160323         15               10               2   \n",
              "4   18          2  103497         15               10               4   \n",
              "\n",
              "   occupation  relationship  race  gender  capital-gain  capital-loss  \\\n",
              "0           6             3     2       1             0             0   \n",
              "1           4             0     4       1             0             0   \n",
              "2          10             0     4       1             0             0   \n",
              "3           6             0     2       1          7688             0   \n",
              "4           3             3     4       0             0             0   \n",
              "\n",
              "   hours-per-week  native-country  income  Labels  \n",
              "0              40              31       0       1  \n",
              "1              50              31       0       0  \n",
              "2              40              31       1       0  \n",
              "3              40              31       1       2  \n",
              "4              30              31       0       2  "
            ]
          },
          "execution_count": 52,
          "metadata": {},
          "output_type": "execute_result"
        }
      ],
      "source": [
        "## joining the label dataframe with unscaled initial dataframe.(df)\n",
        "\n",
        "df_hier = df1.join(df_label1)\n",
        "df_hier.head()"
      ]
    },
    {
      "cell_type": "code",
      "execution_count": null,
      "id": "ee08a268",
      "metadata": {
        "id": "ee08a268",
        "outputId": "e7f7d4aa-20e2-4a34-c545-d5d539f574fc"
      },
      "outputs": [
        {
          "data": {
            "image/png": "[encoded data removed]",
            "text/plain": [
              "<Figure size 432x288 with 1 Axes>"
            ]
          },
          "metadata": {
            "needs_background": "light"
          },
          "output_type": "display_data"
        },
        {
          "data": {
            "image/png": "[encoded data removed]",
            "text/plain": [
              "<Figure size 432x288 with 1 Axes>"
            ]
          },
          "metadata": {
            "needs_background": "light"
          },
          "output_type": "display_data"
        }
      ],
      "source": [
        "plt.title('K-Means Classes')\n",
        "sns.scatterplot(x='age',y='fnlwgt',hue='Labels',data=df_kmeans,palette='bright')\n",
        "plt.show()\n",
        "\n",
        "plt.title('Hierarchical Classes')\n",
        "sns.scatterplot(x='age',y='fnlwgt',hue='Labels',data=df_hier,palette='bright')\n",
        "plt.show()"
      ]
    },
    {
      "cell_type": "code",
      "execution_count": null,
      "id": "2f3f222e",
      "metadata": {
        "id": "2f3f222e"
      },
      "outputs": [],
      "source": [
        "for i in range(2,15):\n",
        "    hier = AgglomerativeClustering(n_clusters=i)\n",
        "    hier = hier.fit(scaled_features_df)\n",
        "    labels = hier.fit_predict(scaled_features_df)\n",
        "    print(i,silhouette_score(scaled_features_df,labels))"
      ]
    },
    {
      "cell_type": "markdown",
      "id": "0d024393",
      "metadata": {
        "id": "0d024393"
      },
      "source": [
        "### Q18. Compute Silhoutte Score for validating the best optimal number of classes."
      ]
    },
    {
      "cell_type": "code",
      "execution_count": null,
      "id": "f996fe28",
      "metadata": {
        "id": "f996fe28",
        "outputId": "14797d6b-be6a-4e6f-9e35-692a9e5bb714"
      },
      "outputs": [
        {
          "name": "stdout",
          "output_type": "stream",
          "text": [
            "2 0.11568625084502965\n",
            "3 0.1189579101252484\n",
            "4 0.13906880913742936\n",
            "5 0.14627219182077433\n",
            "6 0.16752252631123254\n",
            "7 0.1630569409186821\n",
            "8 0.1655988657394505\n",
            "9 0.14676124786435052\n",
            "10 0.11792855939061014\n",
            "11 0.11064008844186946\n",
            "12 0.12055909485810502\n",
            "13 0.124714768508542\n",
            "14 0.1318980961963827\n"
          ]
        }
      ],
      "source": [
        "for i in range(2,15):\n",
        "    hier = AgglomerativeClustering(n_clusters=i)\n",
        "    hier = hier.fit(data_pca)\n",
        "    labels = hier.fit_predict(data_pca)\n",
        "    print(i,silhouette_score(data_pca,labels))"
      ]
    },
    {
      "cell_type": "markdown",
      "id": "fa15cc93",
      "metadata": {
        "id": "fa15cc93"
      },
      "source": [
        "- From above, we can observe that the silhouette score is high for 6 and 7 clusters"
      ]
    },
    {
      "cell_type": "code",
      "execution_count": null,
      "id": "3c1d777e",
      "metadata": {
        "id": "3c1d777e",
        "outputId": "ee4f8fe6-1e52-442c-d5a3-463f4f867967"
      },
      "outputs": [
        {
          "data": {
            "text/html": [
              "<div>\n",
              "<style scoped>\n",
              "    .dataframe tbody tr th:only-of-type {\n",
              "        vertical-align: middle;\n",
              "    }\n",
              "\n",
              "    .dataframe tbody tr th {\n",
              "        vertical-align: top;\n",
              "    }\n",
              "\n",
              "    .dataframe thead th {\n",
              "        text-align: right;\n",
              "    }\n",
              "</style>\n",
              "<table border=\"1\" class=\"dataframe\">\n",
              "  <thead>\n",
              "    <tr style=\"text-align: right;\">\n",
              "      <th></th>\n",
              "      <th>age</th>\n",
              "      <th>workclass</th>\n",
              "      <th>fnlwgt</th>\n",
              "      <th>education</th>\n",
              "      <th>educational-num</th>\n",
              "      <th>marital-status</th>\n",
              "      <th>occupation</th>\n",
              "      <th>relationship</th>\n",
              "      <th>race</th>\n",
              "      <th>gender</th>\n",
              "      <th>capital-gain</th>\n",
              "      <th>capital-loss</th>\n",
              "      <th>hours-per-week</th>\n",
              "      <th>native-country</th>\n",
              "      <th>income</th>\n",
              "      <th>Labels</th>\n",
              "    </tr>\n",
              "  </thead>\n",
              "  <tbody>\n",
              "    <tr>\n",
              "      <th>0</th>\n",
              "      <td>25</td>\n",
              "      <td>2</td>\n",
              "      <td>226802</td>\n",
              "      <td>1</td>\n",
              "      <td>7</td>\n",
              "      <td>4</td>\n",
              "      <td>6</td>\n",
              "      <td>3</td>\n",
              "      <td>2</td>\n",
              "      <td>1</td>\n",
              "      <td>0</td>\n",
              "      <td>0</td>\n",
              "      <td>40</td>\n",
              "      <td>31</td>\n",
              "      <td>0</td>\n",
              "      <td>2</td>\n",
              "    </tr>\n",
              "    <tr>\n",
              "      <th>1</th>\n",
              "      <td>38</td>\n",
              "      <td>2</td>\n",
              "      <td>89814</td>\n",
              "      <td>11</td>\n",
              "      <td>9</td>\n",
              "      <td>2</td>\n",
              "      <td>4</td>\n",
              "      <td>0</td>\n",
              "      <td>4</td>\n",
              "      <td>1</td>\n",
              "      <td>0</td>\n",
              "      <td>0</td>\n",
              "      <td>50</td>\n",
              "      <td>31</td>\n",
              "      <td>0</td>\n",
              "      <td>1</td>\n",
              "    </tr>\n",
              "    <tr>\n",
              "      <th>2</th>\n",
              "      <td>28</td>\n",
              "      <td>1</td>\n",
              "      <td>336951</td>\n",
              "      <td>7</td>\n",
              "      <td>12</td>\n",
              "      <td>2</td>\n",
              "      <td>10</td>\n",
              "      <td>0</td>\n",
              "      <td>4</td>\n",
              "      <td>1</td>\n",
              "      <td>0</td>\n",
              "      <td>0</td>\n",
              "      <td>40</td>\n",
              "      <td>31</td>\n",
              "      <td>1</td>\n",
              "      <td>1</td>\n",
              "    </tr>\n",
              "    <tr>\n",
              "      <th>3</th>\n",
              "      <td>44</td>\n",
              "      <td>2</td>\n",
              "      <td>160323</td>\n",
              "      <td>15</td>\n",
              "      <td>10</td>\n",
              "      <td>2</td>\n",
              "      <td>6</td>\n",
              "      <td>0</td>\n",
              "      <td>2</td>\n",
              "      <td>1</td>\n",
              "      <td>7688</td>\n",
              "      <td>0</td>\n",
              "      <td>40</td>\n",
              "      <td>31</td>\n",
              "      <td>1</td>\n",
              "      <td>1</td>\n",
              "    </tr>\n",
              "    <tr>\n",
              "      <th>4</th>\n",
              "      <td>18</td>\n",
              "      <td>2</td>\n",
              "      <td>103497</td>\n",
              "      <td>15</td>\n",
              "      <td>10</td>\n",
              "      <td>4</td>\n",
              "      <td>3</td>\n",
              "      <td>3</td>\n",
              "      <td>4</td>\n",
              "      <td>0</td>\n",
              "      <td>0</td>\n",
              "      <td>0</td>\n",
              "      <td>30</td>\n",
              "      <td>31</td>\n",
              "      <td>0</td>\n",
              "      <td>4</td>\n",
              "    </tr>\n",
              "  </tbody>\n",
              "</table>\n",
              "</div>"
            ],
            "text/plain": [
              "   age  workclass  fnlwgt  education  educational-num  marital-status  \\\n",
              "0   25          2  226802          1                7               4   \n",
              "1   38          2   89814         11                9               2   \n",
              "2   28          1  336951          7               12               2   \n",
              "3   44          2  160323         15               10               2   \n",
              "4   18          2  103497         15               10               4   \n",
              "\n",
              "   occupation  relationship  race  gender  capital-gain  capital-loss  \\\n",
              "0           6             3     2       1             0             0   \n",
              "1           4             0     4       1             0             0   \n",
              "2          10             0     4       1             0             0   \n",
              "3           6             0     2       1          7688             0   \n",
              "4           3             3     4       0             0             0   \n",
              "\n",
              "   hours-per-week  native-country  income Labels  \n",
              "0              40              31       0      2  \n",
              "1              50              31       0      1  \n",
              "2              40              31       1      1  \n",
              "3              40              31       1      1  \n",
              "4              30              31       0      4  "
            ]
          },
          "execution_count": 59,
          "metadata": {},
          "output_type": "execute_result"
        }
      ],
      "source": [
        "df_kmeans.head()"
      ]
    },
    {
      "cell_type": "code",
      "execution_count": null,
      "id": "644e78f2",
      "metadata": {
        "id": "644e78f2",
        "outputId": "32092023-d411-4034-f9ba-2d5c53dda4b1"
      },
      "outputs": [
        {
          "data": {
            "image/png": "[encoded data removed]",
            "text/plain": [
              "<Figure size 432x288 with 1 Axes>"
            ]
          },
          "metadata": {
            "needs_background": "light"
          },
          "output_type": "display_data"
        }
      ],
      "source": [
        "sns.barplot(df_kmeans['Labels'],df_kmeans['workclass'])\n",
        "plt.show()"
      ]
    },
    {
      "cell_type": "code",
      "execution_count": null,
      "id": "8e04dd94",
      "metadata": {
        "id": "8e04dd94",
        "outputId": "504bebf2-aae0-4f0a-e219-054770e7e121"
      },
      "outputs": [
        {
          "data": {
            "image/png": "[encoded data removed]",
            "text/plain": [
              "<Figure size 432x288 with 1 Axes>"
            ]
          },
          "metadata": {
            "needs_background": "light"
          },
          "output_type": "display_data"
        }
      ],
      "source": [
        "sns.barplot(df_kmeans['Labels'],df_kmeans['education'])\n",
        "plt.show()"
      ]
    },
    {
      "cell_type": "code",
      "execution_count": null,
      "id": "f55fdf20",
      "metadata": {
        "id": "f55fdf20",
        "outputId": "35db3f5c-fd15-45d9-f081-a250be3b37f1"
      },
      "outputs": [
        {
          "data": {
            "image/png": "[encoded data removed]",
            "text/plain": [
              "<Figure size 432x288 with 1 Axes>"
            ]
          },
          "metadata": {
            "needs_background": "light"
          },
          "output_type": "display_data"
        }
      ],
      "source": [
        "sns.barplot(df_kmeans['Labels'],df_kmeans['hours-per-week'])\n",
        "plt.show()"
      ]
    },
    {
      "cell_type": "code",
      "execution_count": null,
      "id": "642528df",
      "metadata": {
        "id": "642528df",
        "outputId": "d2971456-5d07-4e3b-d9cd-dc92a32a7dbe"
      },
      "outputs": [
        {
          "data": {
            "image/png": "[encoded data removed]",
            "text/plain": [
              "<Figure size 432x288 with 1 Axes>"
            ]
          },
          "metadata": {
            "needs_background": "light"
          },
          "output_type": "display_data"
        }
      ],
      "source": [
        "sns.barplot(df_kmeans['Labels'],df_kmeans['occupation'])\n",
        "plt.show()"
      ]
    },
    {
      "cell_type": "code",
      "execution_count": null,
      "id": "9a844249",
      "metadata": {
        "id": "9a844249",
        "outputId": "83bbe202-7c1f-41bf-da43-d5c694710cbe"
      },
      "outputs": [
        {
          "data": {
            "image/png": "[encoded data removed]",
            "text/plain": [
              "<Figure size 432x288 with 1 Axes>"
            ]
          },
          "metadata": {
            "needs_background": "light"
          },
          "output_type": "display_data"
        }
      ],
      "source": [
        "sns.barplot(df_kmeans['Labels'],df_kmeans['relationship'])\n",
        "plt.show()"
      ]
    },
    {
      "cell_type": "code",
      "execution_count": null,
      "id": "b5d05d21",
      "metadata": {
        "id": "b5d05d21",
        "outputId": "8a8ecc0c-bfc5-4c8e-d07d-380c0fa31668"
      },
      "outputs": [
        {
          "data": {
            "image/png": "[encoded data removed]",
            "text/plain": [
              "<Figure size 432x288 with 1 Axes>"
            ]
          },
          "metadata": {
            "needs_background": "light"
          },
          "output_type": "display_data"
        }
      ],
      "source": [
        "sns.barplot(df_kmeans['Labels'],df_kmeans['capital-gain'])\n",
        "plt.show()"
      ]
    },
    {
      "cell_type": "code",
      "execution_count": null,
      "id": "6f7d6e1b",
      "metadata": {
        "id": "6f7d6e1b",
        "outputId": "ab8fdf62-9682-4ca3-b5ad-fd4d9ce85b0f"
      },
      "outputs": [
        {
          "data": {
            "image/png": "[encoded data removed]",
            "text/plain": [
              "<Figure size 432x288 with 1 Axes>"
            ]
          },
          "metadata": {
            "needs_background": "light"
          },
          "output_type": "display_data"
        }
      ],
      "source": [
        "sns.barplot(df_kmeans['Labels'],df_kmeans['capital-loss'])\n",
        "plt.show()"
      ]
    },
    {
      "cell_type": "markdown",
      "id": "52eb629a",
      "metadata": {
        "id": "52eb629a"
      },
      "source": [
        "## Observation"
      ]
    },
    {
      "cell_type": "markdown",
      "id": "8669b983",
      "metadata": {
        "id": "8669b983"
      },
      "source": [
        "**Altough there is no definitive answer since cluster analysis is essentially an exploratory approach; the interpretation of the resulting hierarchical structure is context-dependent and often several solutions are equally good from a theoretical point of view.**"
      ]
    },
    {
      "cell_type": "markdown",
      "id": "cf959d96",
      "metadata": {
        "id": "cf959d96"
      },
      "source": [
        "- Based on above information we can divide people into the following parts:-\n",
        "- 1. People who do private jobs:\n",
        "   - spends around 38-42 hrs per week working.\n",
        "   - Capital gains are negligible.\n",
        "   - suffers the most capital loss.\n",
        "   \n",
        "- 2. People who work as a self-employed-inc:\n",
        "   - spends around 50 hours per week working.\n",
        "   - captial gains is highest for such person.\n",
        "\n",
        "- 3. People who are working as a self-employed-not-inc:\n",
        "   - spends the least time, around 36 hours per week working.\n",
        "   - capital gains for such group of people are negligible.\n",
        "   \n",
        "- and so on."
      ]
    },
    {
      "cell_type": "markdown",
      "id": "93781d13",
      "metadata": {
        "id": "93781d13"
      },
      "source": [
        "-----\n",
        "### Machine Learning model evaluations \n",
        "- In this project, we have attempted to cluster adult census dataset using K-means and agglomerative clustering and we also reduce the dimensionality of the dataset using PCA.\n",
        "- We came up with 6 clusters using K-means and 4 classes using agglomerative clustering.\n",
        "- Although selection of the clusters can be revised using Silhoutte score but for a general introductory part it is okay to visualize the plot (either elbow graph or dendrograms) and come up with a particular clusters size.\n",
        "-----"
      ]
    },
    {
      "cell_type": "code",
      "source": [],
      "metadata": {
        "id": "SdMQ_xzu6pwL"
      },
      "id": "SdMQ_xzu6pwL",
      "execution_count": null,
      "outputs": []
    }
  ],
  "metadata": {
    "kernelspec": {
      "display_name": "Python 3",
      "language": "python",
      "name": "python3"
    },
    "language_info": {
      "codemirror_mode": {
        "name": "ipython",
        "version": 3
      },
      "file_extension": ".py",
      "mimetype": "text/x-python",
      "name": "python",
      "nbconvert_exporter": "python",
      "pygments_lexer": "ipython3",
      "version": "3.8.8"
    },
    "colab": {
      "provenance": [],
      "include_colab_link": true
    }
  },
  "nbformat": 4,
  "nbformat_minor": 5
}